{
 "cells": [
  {
   "cell_type": "code",
   "execution_count": 1,
   "id": "c8350ff4",
   "metadata": {},
   "outputs": [],
   "source": [
    "import requests\n",
    "from bs4 import BeautifulSoup\n",
    "import numpy as np\n",
    "import pandas as pd\n",
    "import matplotlib.pyplot as plt\n",
    "import seaborn as sns\n",
    "import time\n",
    "import nltk\n",
    "import pickle\n",
    "from nltk.corpus import stopwords\n",
    "from sklearn.metrics import classification_report, confusion_matrix, accuracy_score\n",
    "from nltk.stem import WordNetLemmatizer\n",
    "from sklearn.model_selection import train_test_split"
   ]
  },
  {
   "cell_type": "code",
   "execution_count": 2,
   "id": "4cde55fd",
   "metadata": {},
   "outputs": [],
   "source": [
    "url = \"https://www.nhtsa.gov/technology-innovation/automated-vehicles-safety\"\n",
    "url_1 = 'https://www.nhtsa.gov/technology-innovation/automated-vehicles-safety'\n",
    "url_2 = 'https://www.reuters.com/business/autos-transportation/vw-ceo-says-smart-cars-not-e-cars-are-gamechanger-2021-09-05/'\n",
    "url_3 = 'https://www.nytimes.com/2019/07/17/business/self-driving-autonomous-cars.html'\n",
    "url_list = [url_1, url_2, url_3]"
   ]
  },
  {
   "cell_type": "code",
   "execution_count": 3,
   "id": "07628f44",
   "metadata": {},
   "outputs": [],
   "source": [
    "import sys\n",
    "def article_in_lists(url):\n",
    "    size = sys.getsizeof(articles(url))\n",
    "    return size"
   ]
  },
  {
   "cell_type": "code",
   "execution_count": 4,
   "id": "5b4109e0",
   "metadata": {},
   "outputs": [],
   "source": [
    "def articles(url):\n",
    "    page = requests.get(url)\n",
    "    from bs4 import BeautifulSoup\n",
    "    soup = BeautifulSoup(page.content, 'html5lib')\n",
    "    contents = soup.find_all('p')\n",
    "    news_content = []\n",
    "    list_paragraphs = []\n",
    "    \n",
    "    for p in np.arange(0, len(contents)):\n",
    "        paragraph = contents[p].get_text()\n",
    "        list_paragraphs.append(paragraph)\n",
    "        final_article = \" \".join(list_paragraphs)\n",
    "    news_content.append(final_article)\n",
    "    return news_content"
   ]
  },
  {
   "cell_type": "markdown",
   "id": "6409f0a5",
   "metadata": {},
   "source": [
    "## CREATING A DATASET"
   ]
  },
  {
   "cell_type": "code",
   "execution_count": 5,
   "id": "d9a46a07",
   "metadata": {
    "scrolled": true
   },
   "outputs": [],
   "source": [
    "#creating a dataframe for the latest vs oldest news with latest being 1 and old being 2\n",
    "\n",
    "article_size=[]\n",
    "for urls in url_list:\n",
    "    size = article_in_lists(urls)\n",
    "    article_size.append(size)\n",
    "data = {'Article':['Automated Vehicles for Safety', 'Volkswagen CEO: smart cars, not e-cars, are gamechanger','Despite High Hopes, Self-Driving Cars Are ‘Way in the Future’'], 'Latest':[2, 1, 1], 'Daily views': ['100', '500', '100'], 'Size of article': [1025, 645, 785]}\n",
    "df = pd.DataFrame(data)"
   ]
  },
  {
   "cell_type": "code",
   "execution_count": 6,
   "id": "268f5fac",
   "metadata": {},
   "outputs": [
    {
     "data": {
      "text/html": [
       "<div>\n",
       "<style scoped>\n",
       "    .dataframe tbody tr th:only-of-type {\n",
       "        vertical-align: middle;\n",
       "    }\n",
       "\n",
       "    .dataframe tbody tr th {\n",
       "        vertical-align: top;\n",
       "    }\n",
       "\n",
       "    .dataframe thead th {\n",
       "        text-align: right;\n",
       "    }\n",
       "</style>\n",
       "<table border=\"1\" class=\"dataframe\">\n",
       "  <thead>\n",
       "    <tr style=\"text-align: right;\">\n",
       "      <th></th>\n",
       "      <th>Article</th>\n",
       "      <th>Latest</th>\n",
       "      <th>Daily views</th>\n",
       "      <th>Size of article</th>\n",
       "    </tr>\n",
       "  </thead>\n",
       "  <tbody>\n",
       "    <tr>\n",
       "      <th>0</th>\n",
       "      <td>Automated Vehicles for Safety</td>\n",
       "      <td>2</td>\n",
       "      <td>100</td>\n",
       "      <td>1025</td>\n",
       "    </tr>\n",
       "    <tr>\n",
       "      <th>1</th>\n",
       "      <td>Volkswagen CEO: smart cars, not e-cars, are ga...</td>\n",
       "      <td>1</td>\n",
       "      <td>500</td>\n",
       "      <td>645</td>\n",
       "    </tr>\n",
       "    <tr>\n",
       "      <th>2</th>\n",
       "      <td>Despite High Hopes, Self-Driving Cars Are ‘Way...</td>\n",
       "      <td>1</td>\n",
       "      <td>100</td>\n",
       "      <td>785</td>\n",
       "    </tr>\n",
       "  </tbody>\n",
       "</table>\n",
       "</div>"
      ],
      "text/plain": [
       "                                             Article  Latest Daily views  \\\n",
       "0                      Automated Vehicles for Safety       2         100   \n",
       "1  Volkswagen CEO: smart cars, not e-cars, are ga...       1         500   \n",
       "2  Despite High Hopes, Self-Driving Cars Are ‘Way...       1         100   \n",
       "\n",
       "   Size of article  \n",
       "0             1025  \n",
       "1              645  \n",
       "2              785  "
      ]
     },
     "execution_count": 6,
     "metadata": {},
     "output_type": "execute_result"
    }
   ],
   "source": [
    "df"
   ]
  },
  {
   "cell_type": "code",
   "execution_count": 7,
   "id": "b407efa7",
   "metadata": {},
   "outputs": [],
   "source": [
    "df.to_csv('Article.csv',index=False)"
   ]
  },
  {
   "cell_type": "markdown",
   "id": "2f82d908",
   "metadata": {},
   "source": [
    "## EXPLORATORY DATA ANALYSIS"
   ]
  },
  {
   "cell_type": "code",
   "execution_count": 8,
   "id": "1bda9dd9",
   "metadata": {},
   "outputs": [
    {
     "name": "stdout",
     "output_type": "stream",
     "text": [
      "100    2\n",
      "500    1\n",
      "Name: Daily views, dtype: int64\n"
     ]
    },
    {
     "data": {
      "image/png": "[encoded data removed]",
      "text/plain": [
       "<Figure size 432x288 with 1 Axes>"
      ]
     },
     "metadata": {
      "needs_background": "light"
     },
     "output_type": "display_data"
    }
   ],
   "source": [
    "total_view = df['Daily views'].value_counts()\n",
    "print(total_view)\n",
    "\n",
    "#plotting graph\n",
    "import matplotlib.pyplot as plt\n",
    "data = [100,500]\n",
    "plt.bar(range(len(data)), data)\n",
    "plt.xticks([0,1], ['old news','latest news'])\n",
    "plt.ylabel('views')\n",
    "plt.xlabel('time of article')\n",
    "plt.show()"
   ]
  },
  {
   "cell_type": "code",
   "execution_count": 9,
   "id": "98b2ac88",
   "metadata": {},
   "outputs": [
    {
     "name": "stderr",
     "output_type": "stream",
     "text": [
      "C:\\Program Files\\Anaconda3\\lib\\site-packages\\seaborn\\distributions.py:2557: FutureWarning: `distplot` is a deprecated function and will be removed in a future version. Please adapt your code to use either `displot` (a figure-level function with similar flexibility) or `histplot` (an axes-level function for histograms).\n",
      "  warnings.warn(msg, FutureWarning)\n"
     ]
    },
    {
     "data": {
      "text/plain": [
       "Text(0.5, 1.0, 'Size of article')"
      ]
     },
     "execution_count": 9,
     "metadata": {},
     "output_type": "execute_result"
    },
    {
     "data": {
      "image/png": "[encoded data removed]",
      "text/plain": [
       "<Figure size 756x360 with 1 Axes>"
      ]
     },
     "metadata": {
      "needs_background": "light"
     },
     "output_type": "display_data"
    }
   ],
   "source": [
    "# plotting the graph for the article size from the dataset\n",
    "\n",
    "plt.figure(figsize=(10.5,5))\n",
    "sns.distplot(df['Size of article']).set_title('Size of article')"
   ]
  },
  {
   "cell_type": "markdown",
   "id": "122f185f",
   "metadata": {},
   "source": [
    "## FEATURE ENGINEERING"
   ]
  },
  {
   "cell_type": "code",
   "execution_count": 10,
   "id": "7c2c7d8a",
   "metadata": {},
   "outputs": [],
   "source": [
    "url = \"https://www.nhtsa.gov/technology-innovation/automated-vehicles-safety\"\n",
    "page = requests.get(url)"
   ]
  },
  {
   "cell_type": "code",
   "execution_count": 11,
   "id": "116431fb",
   "metadata": {},
   "outputs": [],
   "source": [
    "from bs4 import BeautifulSoup\n",
    "soup = BeautifulSoup(page.content, 'html.parser')\n",
    "contents = soup.find_all('p')"
   ]
  },
  {
   "cell_type": "code",
   "execution_count": 12,
   "id": "412c5c38",
   "metadata": {},
   "outputs": [],
   "source": [
    "news_content = []\n",
    "list_paragraphs = []\n",
    "for p in np.arange(0, len(contents)):\n",
    "    paragraph = contents[p].get_text()\n",
    "    list_paragraphs.append(paragraph)\n",
    "    final_article = \" \".join(list_paragraphs)\n",
    "news_content.append(final_article)"
   ]
  },
  {
   "cell_type": "code",
   "execution_count": 13,
   "id": "8c998931",
   "metadata": {
    "scrolled": false
   },
   "outputs": [
    {
     "data": {
      "text/plain": [
       "\"The continuing evolution of automotive technology aims to deliver even greater safety benefits and automated driving systems (ADS) that — one day — can handle the whole task of driving when we don’t want to or can’t do it ourselves. Fully automated cars and trucks that drive us, instead of us driving them, will become a reality. These self-driving vehicles ultimately will integrate onto U.S. roadways by progressing through six levels of driver assistance technology advancements in the coming years. Driver assistance\\xa0technologies in today’s motor vehicles are already helping to save lives and prevent injuries. A number of today’s new motor vehicles have technology that helps drivers avoid drifting into adjacent lanes or making unsafe lane changes, or that warns drivers of other vehicles behind them when they are backing up, or that brakes automatically if a vehicle ahead of them stops or slows suddenly, among other things. These and other safety technologies use a combination of hardware (sensors, cameras, and radar) and software to help vehicles identify certain safety risks so they can warn the driver to act to avoid a crash. The continuing evolution of automotive technology aims to deliver even greater safety benefits and – one day – deliver automated driving systems (ADS)\\xa0that can handle the whole task of driving when we don’t want to or can’t do it ourselves. \\nDownload NHTSA’s voluntary guidance, technical documentation, and additional resources related to automated vehicles. Find out what’s included in AV 2.0, AV 3.0, AV 4.0 and what’s changed, and get answers to common questions.\\n Download NHTSA’s voluntary guidance, technical documentation, and additional resources related to automated vehicles. Find out what’s included in AV 2.0, AV 3.0, AV 4.0 and what’s changed, and get answers to common questions. Cruise Control\\r\\n\\tSeat Belts\\r\\n\\tAntilock Brakes\\n Cruise Control\\r\\n\\tSeat Belts\\r\\n\\tAntilock Brakes Electronic Stability Control\\r\\n\\tBlind Spot Detection\\r\\n\\tForward Collision Warning\\r\\n\\tLane Departure Warning\\n Electronic Stability Control\\r\\n\\tBlind Spot Detection\\r\\n\\tForward Collision Warning\\r\\n\\tLane Departure Warning Rearview Video Systems\\r\\n\\tAutomatic Emergency Braking\\r\\n\\tPedestrian Automatic Emergency Braking\\r\\n\\tRear Automatic Emergency Braking\\r\\n\\tRear Cross Traffic Alert\\r\\n\\tLane Centering Assist\\n Rearview Video Systems\\r\\n\\tAutomatic Emergency Braking\\r\\n\\tPedestrian Automatic Emergency Braking\\r\\n\\tRear Automatic Emergency Braking\\r\\n\\tRear Cross Traffic Alert\\r\\n\\tLane Centering Assist Lane keeping assist\\r\\n\\tAdaptive cruise control\\r\\n\\tTraffic jam assist\\r\\n\\tSelf-park\\n Lane keeping assist\\r\\n\\tAdaptive cruise control\\r\\n\\tTraffic jam assist\\r\\n\\tSelf-park Highway autopilot\\n Highway autopilot Fully autonomous cars and trucks that drive us instead of us driving them will become a reality. These self-driving vehicles ultimately will integrate onto U.S. roadways by progressing through six levels of driver assistance technology advancements in the coming years. This includes everything from no automation (where a fully engaged driver is required at all times), to full autonomy (where an automated vehicle operates independently, without a human driver). \\xa0 The safety benefits of automated vehicles are paramount. Automated vehicles’ potential to save lives and reduce injuries is rooted in one critical and tragic fact: 94%\\xa0of serious crashes are due to human error. Automated vehicles have the potential to remove human error from the crash equation, which will help protect drivers and passengers, as well as bicyclists and pedestrians. When you consider more than 35,000\\xa0people die\\xa0in motor vehicle-related crashes in the United States each year, you begin to grasp the lifesaving benefits of driver assistance technologies. Automated vehicles could deliver additional economic and additional societal benefits. A NHTSA study showed motor vehicle crashes in 2010 cost $242 billion in economic activity, including $57.6 billion in lost workplace productivity, and $594 billion due to loss of life and decreased quality of life due to injuries. Eliminating the vast majority of motor vehicle crashes could erase these costs. Roads filled with automated vehicles could also cooperate to smooth traffic flow and reduce traffic congestion. Americans spent an estimated 6.9 billion hours in traffic delays in 2014, cutting into time at work or with family, increasing fuel costs and vehicle emission. With automated vehicles, the time and money spent commuting could be put to better use. A study stated that automated vehicles could free up as much as 50 minutes each day that had previously been dedicated to driving. While its full societal benefits are difficult to project, the transformative potential of automated vehicles and their driver assistance features can also be understood by reviewing U.S. demographics and the communities these technologies could help to support. For example, automated vehicles may also provide new mobility options to millions more Americans. Today there are 49 million Americans over age 65 and 53 million people have some form of disability. In many places across the country employment or independent living rests on the ability to drive. Automated vehicles could extend that kind of freedom to millions more. One study suggests that automated vehicles could create new employment opportunities for approximately 2 million people with disabilities. Automated or “self-driving” vehicles are a future technology rather than one that you’ll find in a dealership tomorrow or in the next few years. A variety of technological hurdles have to be cleared, and other important issues must be addressed before these types of vehicles can be available for sale in the United States. The Department of Transportation is committed to supporting the innovators who are developing these types of vehicles to ensure their safe testing and deployment before they are available to consumers. Automated vehicles and driver assisting technologies (including those already in use on the roads) have the potential to reduce crashes, prevent injuries, and save lives. Of all serious motor vehicle crashes, 94 percent are due to human error or choices. Fully automated vehicles that can see more and act faster than human drivers could greatly reduce errors, the resulting crashes, and their toll. There is no vehicle currently available for sale that is “self-driving.” Every vehicle currently for sale in the United States requires the full attention of the driver at all times for safe operation. While an increasing number of vehicles now offer some automated safety features designed to assist the driver under specific conditions, there is no vehicle currently for sale that is fully automated or “self-driving.” Many vehicles today include safety features that assist drivers in specific circumstances, such as keeping us from drifting out of our lane or helping us stop in time to avoid a crash or reduce its severity. Read more about on this on\\xa0NHTSA's safety technologies topic. If you’re currently shopping for a new vehicle, review NHTSA’s 5-Star Safety Ratings to make informed decisions about the safety features included in your new vehicle. If you're currently shopping for a new vehicle, review\\xa0NHTSA's 5-Star Safety Ratings\\xa0to make informed decisions about the safety features in your new vehicle. Vehicles are tested by the companies that build them. Companies must comply with Federal Motor Vehicle Safety Standards and certify that their vehicle is free of safety risks. Many companies today are testing advanced automated vehicles to ensure that they operate as intended, but a great deal of work remains to be done to ensure their safe operation before they are made publicly available. Cybersecurity is a critical issue that DOT and automotive companies are working to address for the future safe deployment of these technologies. Advanced vehicle safety technologies depend on an array of electronics, sensors, and computing power. In advancing these features and exploring the potential of fully autonomous vehicles, DOT and NHTSA are focused on cybersecurity to ensure that these systems work as intended. You can read more about our approach by visiting\\xa0NHTSA's vehicle cybersecurity topic. These are among many important questions beyond the technical considerations that policymakers are working to address before automated vehicles are made available. We are still many years from fully automated vehicles becoming available to the public. A vehicle that is fully automated will be capable of controlling all aspects of driving without human intervention, regardless of whether its design includes controls for a human driver. Companies may take different design approaches to fully “self-driving” vehicles that do or do not include controls allowing for a human driver. As is the case now, consumers will decide what types of vehicle designs best suit their needs. A fully automated vehicle could provide new mobility options for older people and for those with disabilities. Some older Americans and people with disabilities are able to drive today by adapting or modifying their vehicles to meet their specific needs. Fully automated vehicles could offer new mobility options to many more people, helping them to live independently or to better connect them to jobs, education and training, and other opportunities. NHTSA demonstrates its dedication to saving lives on our nation’s roads and highways through its proactive and inclusive approach to the safe development, testing, and deployment of new and advanced vehicle technologies that have enormous potential for improving safety and mobility for all Americans, NHTSA demonstrates its dedication to saving lives on our nation’s roads and highways. In September 2016, NHTSA and the U.S. Department of Transportation issued the Federal Automated Vehicles Policy which set forth a proactive approach to providing safety assurance and facilitating innovation. Building on that policy and incorporating feedback received through public comments, stakeholder meetings, and Congressional hearings, in September 2017, the agency issued, Automated Driving Systems: A Vision for Safety 2.0. The updated guidance, 2.0, offers a flexible, nonregulatory approach to automated vehicle technology safety, by supporting the automotive industry and other key stakeholders as they consider and design best practices for the safe testing and deployment of ADS levels 3 through 5. It also provides technical assistance to states and best practices for policymakers regarding ADS. In October 2018, U.S. DOT released Preparing for the Future of Transportation: Automated Vehicles 3.0, which builds upon — but does not replace — the voluntary guidance provided in 2.0. AV 3.0 expands the scope to all surface on-road transportation systems, and was developed through input from a diverse set of stakeholder engagements throughout the nation. AV 3.0 is structured around three key areas: Ensuring American Leadership in Automated Vehicle Technologies: Automated Vehicles 4.0 was released in January 2020. AV 4.0 builds upon AV 3.0 by expanding the scope to 38 relevant United States Government (USG) components that\\xa0have direct or tangential equities in safe development and integration of AV technologies. AV 4.0 is structured around three key areas:\\xa0 As automated technologies advance, so will the department’s guidance. The guidance is intended to be flexible and to evolve as technology does, but with safety always as the top priority. National Highway Traffic Safety Administration \\n1200 New Jersey Avenue, SE\\n\\nWashington, D.C. 20590 1-888-327-42361-800-424-9153 (TTY) \\n\\n\\nTwitter\\n\\n\\nFacebook\\n\\n\\nYoutube\\n\\n\\nInstagram\\n\\n \\n\\n\\n\\n\""
      ]
     },
     "execution_count": 13,
     "metadata": {},
     "output_type": "execute_result"
    }
   ],
   "source": [
    "news_content[0]"
   ]
  },
  {
   "cell_type": "code",
   "execution_count": 14,
   "id": "03bdb6d5",
   "metadata": {},
   "outputs": [],
   "source": [
    "df1 = pd.DataFrame()\n",
    "df1['Content'] = news_content"
   ]
  },
  {
   "cell_type": "code",
   "execution_count": 15,
   "id": "6297668c",
   "metadata": {},
   "outputs": [
    {
     "name": "stderr",
     "output_type": "stream",
     "text": [
      "<ipython-input-15-9b0697e326d8>:8: FutureWarning: The default value of regex will change from True to False in a future version. In addition, single character regular expressions will*not* be treated as literal strings when regex=True.\n",
      "  df1['Content_Parsed_1'] = df1['Content_Parsed_1'].str.replace('[', \" \")\n"
     ]
    }
   ],
   "source": [
    "# Removal of \\r and \\n among spaces as well\n",
    "\n",
    "df1['Content_Parsed_1'] = df1['Content'].str.replace(\"\\n \", \" \")\n",
    "df1['Content_Parsed_1'] = df1['Content_Parsed_1'].str.replace(\"\\t\", \" \")\n",
    "df1['Content_Parsed_1'] = df1['Content_Parsed_1'].str.replace(\"    \", \" \")\n",
    "df1['Content_Parsed_1'] = df1['Content_Parsed_1'].str.replace(\"\\r\", \" \")\n",
    "df1['Content_Parsed_1'] = df1['Content_Parsed_1'].str.replace(\"'\", \" \")\n",
    "df1['Content_Parsed_1'] = df1['Content_Parsed_1'].str.replace('[', \" \")\n",
    "df1['Content_Parsed_1'] = df1['Content_Parsed_1'].str.replace('\"', '')"
   ]
  },
  {
   "cell_type": "code",
   "execution_count": 16,
   "id": "d4547d12",
   "metadata": {},
   "outputs": [
    {
     "data": {
      "text/plain": [
       "0    The continuing evolution of automotive technol...\n",
       "Name: Content_Parsed_1, dtype: object"
      ]
     },
     "execution_count": 16,
     "metadata": {},
     "output_type": "execute_result"
    }
   ],
   "source": [
    "df1['Content_Parsed_1']"
   ]
  },
  {
   "cell_type": "code",
   "execution_count": 17,
   "id": "05f0bc11",
   "metadata": {},
   "outputs": [
    {
     "name": "stderr",
     "output_type": "stream",
     "text": [
      "<ipython-input-17-0a138442e677>:8: FutureWarning: The default value of regex will change from True to False in a future version. In addition, single character regular expressions will*not* be treated as literal strings when regex=True.\n",
      "  df1['Content_Parsed_3'] = df1['Content_Parsed_3'].str.replace(punct_sign, '')\n"
     ]
    }
   ],
   "source": [
    "df1['Content_Parsed_2'] = df1['Content_Parsed_1'].str.lower()\n",
    "punctuation_signs_list = list(\"?:!.,;\"\"'''\")\n",
    "df1['Content_Parsed_3'] = df1['Content_Parsed_2']\n",
    "\n",
    "#Removing the punctuation symbols/signs\n",
    "\n",
    "for punct_sign in punctuation_signs_list:\n",
    "    df1['Content_Parsed_3'] = df1['Content_Parsed_3'].str.replace(punct_sign, '')\n",
    "    df1['Content_Parsed_4'] = df1['Content_Parsed_3'].str.replace(\"'s\",\"\")"
   ]
  },
  {
   "cell_type": "code",
   "execution_count": 18,
   "id": "34298d34",
   "metadata": {},
   "outputs": [
    {
     "data": {
      "text/html": [
       "<div>\n",
       "<style scoped>\n",
       "    .dataframe tbody tr th:only-of-type {\n",
       "        vertical-align: middle;\n",
       "    }\n",
       "\n",
       "    .dataframe tbody tr th {\n",
       "        vertical-align: top;\n",
       "    }\n",
       "\n",
       "    .dataframe thead th {\n",
       "        text-align: right;\n",
       "    }\n",
       "</style>\n",
       "<table border=\"1\" class=\"dataframe\">\n",
       "  <thead>\n",
       "    <tr style=\"text-align: right;\">\n",
       "      <th></th>\n",
       "      <th>Content</th>\n",
       "      <th>Content_Parsed_1</th>\n",
       "      <th>Content_Parsed_2</th>\n",
       "      <th>Content_Parsed_3</th>\n",
       "      <th>Content_Parsed_4</th>\n",
       "    </tr>\n",
       "  </thead>\n",
       "  <tbody>\n",
       "    <tr>\n",
       "      <th>0</th>\n",
       "      <td>The continuing evolution of automotive technol...</td>\n",
       "      <td>The continuing evolution of automotive technol...</td>\n",
       "      <td>the continuing evolution of automotive technol...</td>\n",
       "      <td>the continuing evolution of automotive technol...</td>\n",
       "      <td>the continuing evolution of automotive technol...</td>\n",
       "    </tr>\n",
       "  </tbody>\n",
       "</table>\n",
       "</div>"
      ],
      "text/plain": [
       "                                             Content  \\\n",
       "0  The continuing evolution of automotive technol...   \n",
       "\n",
       "                                    Content_Parsed_1  \\\n",
       "0  The continuing evolution of automotive technol...   \n",
       "\n",
       "                                    Content_Parsed_2  \\\n",
       "0  the continuing evolution of automotive technol...   \n",
       "\n",
       "                                    Content_Parsed_3  \\\n",
       "0  the continuing evolution of automotive technol...   \n",
       "\n",
       "                                    Content_Parsed_4  \n",
       "0  the continuing evolution of automotive technol...  "
      ]
     },
     "execution_count": 18,
     "metadata": {},
     "output_type": "execute_result"
    }
   ],
   "source": [
    "df1"
   ]
  },
  {
   "cell_type": "code",
   "execution_count": 19,
   "id": "c8c0a221",
   "metadata": {},
   "outputs": [],
   "source": [
    "#Stemming and Lemmatization\n",
    "\n",
    "wordnet_lemmatizer = WordNetLemmatizer()\n",
    "nrows = len(df1)\n",
    "lemmatized_text_list = []\n",
    "\n",
    "for rows in range(0, nrows):\n",
    "    \n",
    "    #creating an empty list containing the lemmatized words\n",
    "    lem_list =[]\n",
    "    \n",
    "    #saving the text and the words into an abject\n",
    "    text_obj = df1.loc[rows]['Content_Parsed_4']\n",
    "    words_obj = text_obj.split(\" \")\n",
    "    \n",
    "    # performing iteration to every word for the lemmatization\n",
    "    for word in words_obj:\n",
    "        lem_list.append(wordnet_lemmatizer.lemmatize(word, pos=\"v\"))\n",
    "        \n",
    "    #performing the join operation\n",
    "    lem_text = \" \".join(lem_list)\n",
    "    \n",
    "    # Appending to the list containing the texts\n",
    "    lemmatized_text_list.append(lem_text)\n",
    "\n",
    "df1['Content_Parsed_5'] = lemmatized_text_list"
   ]
  },
  {
   "cell_type": "code",
   "execution_count": 20,
   "id": "470f8031",
   "metadata": {},
   "outputs": [
    {
     "name": "stderr",
     "output_type": "stream",
     "text": [
      "[nltk_data] Downloading package stopwords to\n",
      "[nltk_data]     C:\\Users\\LaptopCheckout\\AppData\\Roaming\\nltk_data...\n",
      "[nltk_data]   Package stopwords is already up-to-date!\n"
     ]
    }
   ],
   "source": [
    "# Download the stop words list\n",
    "nltk.download('stopwords')\n",
    "\n",
    "#Loading the stop words in english\n",
    "stop_words = list(stopwords.words('english'))"
   ]
  },
  {
   "cell_type": "code",
   "execution_count": 21,
   "id": "96d227ca",
   "metadata": {},
   "outputs": [
    {
     "name": "stderr",
     "output_type": "stream",
     "text": [
      "<ipython-input-21-4620e9f939d9>:6: FutureWarning: The default value of regex will change from True to False in a future version.\n",
      "  df1['Content_Parsed_6'] = df1['Content_Parsed_6'].str.replace(regex_stopword, '')\n"
     ]
    }
   ],
   "source": [
    "df1['Content_Parsed_6'] = df1['Content_Parsed_5']\n",
    "\n",
    "for stop_word in stop_words:\n",
    "    \n",
    "    regex_stopword = r\"\\b\" + stop_word + r\"\\b\"\n",
    "    df1['Content_Parsed_6'] = df1['Content_Parsed_6'].str.replace(regex_stopword, '')"
   ]
  },
  {
   "cell_type": "code",
   "execution_count": 22,
   "id": "71e60c65",
   "metadata": {
    "scrolled": false
   },
   "outputs": [
    {
     "data": {
      "text/plain": [
       "\"The continuing evolution of automotive technology aims to deliver even greater safety benefits and automated driving systems (ADS) that — one day — can handle the whole task of driving when we don’t want to or can’t do it ourselves. Fully automated cars and trucks that drive us, instead of us driving them, will become a reality. These self-driving vehicles ultimately will integrate onto U.S. roadways by progressing through six levels of driver assistance technology advancements in the coming years. Driver assistance\\xa0technologies in today’s motor vehicles are already helping to save lives and prevent injuries. A number of today’s new motor vehicles have technology that helps drivers avoid drifting into adjacent lanes or making unsafe lane changes, or that warns drivers of other vehicles behind them when they are backing up, or that brakes automatically if a vehicle ahead of them stops or slows suddenly, among other things. These and other safety technologies use a combination of hardware (sensors, cameras, and radar) and software to help vehicles identify certain safety risks so they can warn the driver to act to avoid a crash. The continuing evolution of automotive technology aims to deliver even greater safety benefits and – one day – deliver automated driving systems (ADS)\\xa0that can handle the whole task of driving when we don’t want to or can’t do it ourselves. \\nDownload NHTSA’s voluntary guidance, technical documentation, and additional resources related to automated vehicles. Find out what’s included in AV 2.0, AV 3.0, AV 4.0 and what’s changed, and get answers to common questions.\\n Download NHTSA’s voluntary guidance, technical documentation, and additional resources related to automated vehicles. Find out what’s included in AV 2.0, AV 3.0, AV 4.0 and what’s changed, and get answers to common questions. Cruise Control\\r\\n\\tSeat Belts\\r\\n\\tAntilock Brakes\\n Cruise Control\\r\\n\\tSeat Belts\\r\\n\\tAntilock Brakes Electronic Stability Control\\r\\n\\tBlind Spot Detection\\r\\n\\tForward Collision Warning\\r\\n\\tLane Departure Warning\\n Electronic Stability Control\\r\\n\\tBlind Spot Detection\\r\\n\\tForward Collision Warning\\r\\n\\tLane Departure Warning Rearview Video Systems\\r\\n\\tAutomatic Emergency Braking\\r\\n\\tPedestrian Automatic Emergency Braking\\r\\n\\tRear Automatic Emergency Braking\\r\\n\\tRear Cross Traffic Alert\\r\\n\\tLane Centering Assist\\n Rearview Video Systems\\r\\n\\tAutomatic Emergency Braking\\r\\n\\tPedestrian Automatic Emergency Braking\\r\\n\\tRear Automatic Emergency Braking\\r\\n\\tRear Cross Traffic Alert\\r\\n\\tLane Centering Assist Lane keeping assist\\r\\n\\tAdaptive cruise control\\r\\n\\tTraffic jam assist\\r\\n\\tSelf-park\\n Lane keeping assist\\r\\n\\tAdaptive cruise control\\r\\n\\tTraffic jam assist\\r\\n\\tSelf-park Highway autopilot\\n Highway autopilot Fully autonomous cars and trucks that drive us instead of us driving them will become a reality. These self-driving vehicles ultimately will integrate onto U.S. roadways by progressing through six levels of driver assistance technology advancements in the coming years. This includes everything from no automation (where a fully engaged driver is required at all times), to full autonomy (where an automated vehicle operates independently, without a human driver). \\xa0 The safety benefits of automated vehicles are paramount. Automated vehicles’ potential to save lives and reduce injuries is rooted in one critical and tragic fact: 94%\\xa0of serious crashes are due to human error. Automated vehicles have the potential to remove human error from the crash equation, which will help protect drivers and passengers, as well as bicyclists and pedestrians. When you consider more than 35,000\\xa0people die\\xa0in motor vehicle-related crashes in the United States each year, you begin to grasp the lifesaving benefits of driver assistance technologies. Automated vehicles could deliver additional economic and additional societal benefits. A NHTSA study showed motor vehicle crashes in 2010 cost $242 billion in economic activity, including $57.6 billion in lost workplace productivity, and $594 billion due to loss of life and decreased quality of life due to injuries. Eliminating the vast majority of motor vehicle crashes could erase these costs. Roads filled with automated vehicles could also cooperate to smooth traffic flow and reduce traffic congestion. Americans spent an estimated 6.9 billion hours in traffic delays in 2014, cutting into time at work or with family, increasing fuel costs and vehicle emission. With automated vehicles, the time and money spent commuting could be put to better use. A study stated that automated vehicles could free up as much as 50 minutes each day that had previously been dedicated to driving. While its full societal benefits are difficult to project, the transformative potential of automated vehicles and their driver assistance features can also be understood by reviewing U.S. demographics and the communities these technologies could help to support. For example, automated vehicles may also provide new mobility options to millions more Americans. Today there are 49 million Americans over age 65 and 53 million people have some form of disability. In many places across the country employment or independent living rests on the ability to drive. Automated vehicles could extend that kind of freedom to millions more. One study suggests that automated vehicles could create new employment opportunities for approximately 2 million people with disabilities. Automated or “self-driving” vehicles are a future technology rather than one that you’ll find in a dealership tomorrow or in the next few years. A variety of technological hurdles have to be cleared, and other important issues must be addressed before these types of vehicles can be available for sale in the United States. The Department of Transportation is committed to supporting the innovators who are developing these types of vehicles to ensure their safe testing and deployment before they are available to consumers. Automated vehicles and driver assisting technologies (including those already in use on the roads) have the potential to reduce crashes, prevent injuries, and save lives. Of all serious motor vehicle crashes, 94 percent are due to human error or choices. Fully automated vehicles that can see more and act faster than human drivers could greatly reduce errors, the resulting crashes, and their toll. There is no vehicle currently available for sale that is “self-driving.” Every vehicle currently for sale in the United States requires the full attention of the driver at all times for safe operation. While an increasing number of vehicles now offer some automated safety features designed to assist the driver under specific conditions, there is no vehicle currently for sale that is fully automated or “self-driving.” Many vehicles today include safety features that assist drivers in specific circumstances, such as keeping us from drifting out of our lane or helping us stop in time to avoid a crash or reduce its severity. Read more about on this on\\xa0NHTSA's safety technologies topic. If you’re currently shopping for a new vehicle, review NHTSA’s 5-Star Safety Ratings to make informed decisions about the safety features included in your new vehicle. If you're currently shopping for a new vehicle, review\\xa0NHTSA's 5-Star Safety Ratings\\xa0to make informed decisions about the safety features in your new vehicle. Vehicles are tested by the companies that build them. Companies must comply with Federal Motor Vehicle Safety Standards and certify that their vehicle is free of safety risks. Many companies today are testing advanced automated vehicles to ensure that they operate as intended, but a great deal of work remains to be done to ensure their safe operation before they are made publicly available. Cybersecurity is a critical issue that DOT and automotive companies are working to address for the future safe deployment of these technologies. Advanced vehicle safety technologies depend on an array of electronics, sensors, and computing power. In advancing these features and exploring the potential of fully autonomous vehicles, DOT and NHTSA are focused on cybersecurity to ensure that these systems work as intended. You can read more about our approach by visiting\\xa0NHTSA's vehicle cybersecurity topic. These are among many important questions beyond the technical considerations that policymakers are working to address before automated vehicles are made available. We are still many years from fully automated vehicles becoming available to the public. A vehicle that is fully automated will be capable of controlling all aspects of driving without human intervention, regardless of whether its design includes controls for a human driver. Companies may take different design approaches to fully “self-driving” vehicles that do or do not include controls allowing for a human driver. As is the case now, consumers will decide what types of vehicle designs best suit their needs. A fully automated vehicle could provide new mobility options for older people and for those with disabilities. Some older Americans and people with disabilities are able to drive today by adapting or modifying their vehicles to meet their specific needs. Fully automated vehicles could offer new mobility options to many more people, helping them to live independently or to better connect them to jobs, education and training, and other opportunities. NHTSA demonstrates its dedication to saving lives on our nation’s roads and highways through its proactive and inclusive approach to the safe development, testing, and deployment of new and advanced vehicle technologies that have enormous potential for improving safety and mobility for all Americans, NHTSA demonstrates its dedication to saving lives on our nation’s roads and highways. In September 2016, NHTSA and the U.S. Department of Transportation issued the Federal Automated Vehicles Policy which set forth a proactive approach to providing safety assurance and facilitating innovation. Building on that policy and incorporating feedback received through public comments, stakeholder meetings, and Congressional hearings, in September 2017, the agency issued, Automated Driving Systems: A Vision for Safety 2.0. The updated guidance, 2.0, offers a flexible, nonregulatory approach to automated vehicle technology safety, by supporting the automotive industry and other key stakeholders as they consider and design best practices for the safe testing and deployment of ADS levels 3 through 5. It also provides technical assistance to states and best practices for policymakers regarding ADS. In October 2018, U.S. DOT released Preparing for the Future of Transportation: Automated Vehicles 3.0, which builds upon — but does not replace — the voluntary guidance provided in 2.0. AV 3.0 expands the scope to all surface on-road transportation systems, and was developed through input from a diverse set of stakeholder engagements throughout the nation. AV 3.0 is structured around three key areas: Ensuring American Leadership in Automated Vehicle Technologies: Automated Vehicles 4.0 was released in January 2020. AV 4.0 builds upon AV 3.0 by expanding the scope to 38 relevant United States Government (USG) components that\\xa0have direct or tangential equities in safe development and integration of AV technologies. AV 4.0 is structured around three key areas:\\xa0 As automated technologies advance, so will the department’s guidance. The guidance is intended to be flexible and to evolve as technology does, but with safety always as the top priority. National Highway Traffic Safety Administration \\n1200 New Jersey Avenue, SE\\n\\nWashington, D.C. 20590 1-888-327-42361-800-424-9153 (TTY) \\n\\n\\nTwitter\\n\\n\\nFacebook\\n\\n\\nYoutube\\n\\n\\nInstagram\\n\\n \\n\\n\\n\\n\""
      ]
     },
     "execution_count": 22,
     "metadata": {},
     "output_type": "execute_result"
    }
   ],
   "source": [
    "df1.loc[0]['Content']"
   ]
  },
  {
   "cell_type": "code",
   "execution_count": 23,
   "id": "37c4d9b1",
   "metadata": {},
   "outputs": [
    {
     "data": {
      "text/plain": [
       "'The continuing evolution of automotive technology aims to deliver even greater safety benefits and automated driving systems (ADS) that — one day — can handle the whole task of driving when we don’t want to or can’t do it ourselves. Fully automated cars and trucks that drive us, instead of us driving them, will become a reality. These self-driving vehicles ultimately will integrate onto U.S. roadways by progressing through six levels of driver assistance technology advancements in the coming years. Driver assistance\\xa0technologies in today’s motor vehicles are already helping to save lives and prevent injuries. A number of today’s new motor vehicles have technology that helps drivers avoid drifting into adjacent lanes or making unsafe lane changes, or that warns drivers of other vehicles behind them when they are backing up, or that brakes automatically if a vehicle ahead of them stops or slows suddenly, among other things. These and other safety technologies use a combination of hardware (sensors, cameras, and radar) and software to help vehicles identify certain safety risks so they can warn the driver to act to avoid a crash. The continuing evolution of automotive technology aims to deliver even greater safety benefits and – one day – deliver automated driving systems (ADS)\\xa0that can handle the whole task of driving when we don’t want to or can’t do it ourselves. \\nDownload NHTSA’s voluntary guidance, technical documentation, and additional resources related to automated vehicles. Find out what’s included in AV 2.0, AV 3.0, AV 4.0 and what’s changed, and get answers to common questions. Download NHTSA’s voluntary guidance, technical documentation, and additional resources related to automated vehicles. Find out what’s included in AV 2.0, AV 3.0, AV 4.0 and what’s changed, and get answers to common questions. Cruise Control \\n Seat Belts \\n Antilock Brakes Cruise Control \\n Seat Belts \\n Antilock Brakes Electronic Stability Control \\n Blind Spot Detection \\n Forward Collision Warning \\n Lane Departure Warning Electronic Stability Control \\n Blind Spot Detection \\n Forward Collision Warning \\n Lane Departure Warning Rearview Video Systems \\n Automatic Emergency Braking \\n Pedestrian Automatic Emergency Braking \\n Rear Automatic Emergency Braking \\n Rear Cross Traffic Alert \\n Lane Centering Assist Rearview Video Systems \\n Automatic Emergency Braking \\n Pedestrian Automatic Emergency Braking \\n Rear Automatic Emergency Braking \\n Rear Cross Traffic Alert \\n Lane Centering Assist Lane keeping assist \\n Adaptive cruise control \\n Traffic jam assist \\n Self-park Lane keeping assist \\n Adaptive cruise control \\n Traffic jam assist \\n Self-park Highway autopilot Highway autopilot Fully autonomous cars and trucks that drive us instead of us driving them will become a reality. These self-driving vehicles ultimately will integrate onto U.S. roadways by progressing through six levels of driver assistance technology advancements in the coming years. This includes everything from no automation (where a fully engaged driver is required at all times), to full autonomy (where an automated vehicle operates independently, without a human driver). \\xa0 The safety benefits of automated vehicles are paramount. Automated vehicles’ potential to save lives and reduce injuries is rooted in one critical and tragic fact: 94%\\xa0of serious crashes are due to human error. Automated vehicles have the potential to remove human error from the crash equation, which will help protect drivers and passengers, as well as bicyclists and pedestrians. When you consider more than 35,000\\xa0people die\\xa0in motor vehicle-related crashes in the United States each year, you begin to grasp the lifesaving benefits of driver assistance technologies. Automated vehicles could deliver additional economic and additional societal benefits. A NHTSA study showed motor vehicle crashes in 2010 cost $242 billion in economic activity, including $57.6 billion in lost workplace productivity, and $594 billion due to loss of life and decreased quality of life due to injuries. Eliminating the vast majority of motor vehicle crashes could erase these costs. Roads filled with automated vehicles could also cooperate to smooth traffic flow and reduce traffic congestion. Americans spent an estimated 6.9 billion hours in traffic delays in 2014, cutting into time at work or with family, increasing fuel costs and vehicle emission. With automated vehicles, the time and money spent commuting could be put to better use. A study stated that automated vehicles could free up as much as 50 minutes each day that had previously been dedicated to driving. While its full societal benefits are difficult to project, the transformative potential of automated vehicles and their driver assistance features can also be understood by reviewing U.S. demographics and the communities these technologies could help to support. For example, automated vehicles may also provide new mobility options to millions more Americans. Today there are 49 million Americans over age 65 and 53 million people have some form of disability. In many places across the country employment or independent living rests on the ability to drive. Automated vehicles could extend that kind of freedom to millions more. One study suggests that automated vehicles could create new employment opportunities for approximately 2 million people with disabilities. Automated or “self-driving” vehicles are a future technology rather than one that you’ll find in a dealership tomorrow or in the next few years. A variety of technological hurdles have to be cleared, and other important issues must be addressed before these types of vehicles can be available for sale in the United States. The Department of Transportation is committed to supporting the innovators who are developing these types of vehicles to ensure their safe testing and deployment before they are available to consumers. Automated vehicles and driver assisting technologies (including those already in use on the roads) have the potential to reduce crashes, prevent injuries, and save lives. Of all serious motor vehicle crashes, 94 percent are due to human error or choices. Fully automated vehicles that can see more and act faster than human drivers could greatly reduce errors, the resulting crashes, and their toll. There is no vehicle currently available for sale that is “self-driving.” Every vehicle currently for sale in the United States requires the full attention of the driver at all times for safe operation. While an increasing number of vehicles now offer some automated safety features designed to assist the driver under specific conditions, there is no vehicle currently for sale that is fully automated or “self-driving.” Many vehicles today include safety features that assist drivers in specific circumstances, such as keeping us from drifting out of our lane or helping us stop in time to avoid a crash or reduce its severity. Read more about on this on\\xa0NHTSA s safety technologies topic. If you’re currently shopping for a new vehicle, review NHTSA’s 5-Star Safety Ratings to make informed decisions about the safety features included in your new vehicle. If you re currently shopping for a new vehicle, review\\xa0NHTSA s 5-Star Safety Ratings\\xa0to make informed decisions about the safety features in your new vehicle. Vehicles are tested by the companies that build them. Companies must comply with Federal Motor Vehicle Safety Standards and certify that their vehicle is free of safety risks. Many companies today are testing advanced automated vehicles to ensure that they operate as intended, but a great deal of work remains to be done to ensure their safe operation before they are made publicly available. Cybersecurity is a critical issue that DOT and automotive companies are working to address for the future safe deployment of these technologies. Advanced vehicle safety technologies depend on an array of electronics, sensors, and computing power. In advancing these features and exploring the potential of fully autonomous vehicles, DOT and NHTSA are focused on cybersecurity to ensure that these systems work as intended. You can read more about our approach by visiting\\xa0NHTSA s vehicle cybersecurity topic. These are among many important questions beyond the technical considerations that policymakers are working to address before automated vehicles are made available. We are still many years from fully automated vehicles becoming available to the public. A vehicle that is fully automated will be capable of controlling all aspects of driving without human intervention, regardless of whether its design includes controls for a human driver. Companies may take different design approaches to fully “self-driving” vehicles that do or do not include controls allowing for a human driver. As is the case now, consumers will decide what types of vehicle designs best suit their needs. A fully automated vehicle could provide new mobility options for older people and for those with disabilities. Some older Americans and people with disabilities are able to drive today by adapting or modifying their vehicles to meet their specific needs. Fully automated vehicles could offer new mobility options to many more people, helping them to live independently or to better connect them to jobs, education and training, and other opportunities. NHTSA demonstrates its dedication to saving lives on our nation’s roads and highways through its proactive and inclusive approach to the safe development, testing, and deployment of new and advanced vehicle technologies that have enormous potential for improving safety and mobility for all Americans, NHTSA demonstrates its dedication to saving lives on our nation’s roads and highways. In September 2016, NHTSA and the U.S. Department of Transportation issued the Federal Automated Vehicles Policy which set forth a proactive approach to providing safety assurance and facilitating innovation. Building on that policy and incorporating feedback received through public comments, stakeholder meetings, and Congressional hearings, in September 2017, the agency issued, Automated Driving Systems: A Vision for Safety 2.0. The updated guidance, 2.0, offers a flexible, nonregulatory approach to automated vehicle technology safety, by supporting the automotive industry and other key stakeholders as they consider and design best practices for the safe testing and deployment of ADS levels 3 through 5. It also provides technical assistance to states and best practices for policymakers regarding ADS. In October 2018, U.S. DOT released Preparing for the Future of Transportation: Automated Vehicles 3.0, which builds upon — but does not replace — the voluntary guidance provided in 2.0. AV 3.0 expands the scope to all surface on-road transportation systems, and was developed through input from a diverse set of stakeholder engagements throughout the nation. AV 3.0 is structured around three key areas: Ensuring American Leadership in Automated Vehicle Technologies: Automated Vehicles 4.0 was released in January 2020. AV 4.0 builds upon AV 3.0 by expanding the scope to 38 relevant United States Government (USG) components that\\xa0have direct or tangential equities in safe development and integration of AV technologies. AV 4.0 is structured around three key areas:\\xa0 As automated technologies advance, so will the department’s guidance. The guidance is intended to be flexible and to evolve as technology does, but with safety always as the top priority. National Highway Traffic Safety Administration \\n1200 New Jersey Avenue, SE\\n\\nWashington, D.C. 20590 1-888-327-42361-800-424-9153 (TTY) \\n\\n\\nTwitter\\n\\n\\nFacebook\\n\\n\\nYoutube\\n\\n\\nInstagram\\n \\n\\n\\n\\n'"
      ]
     },
     "execution_count": 23,
     "metadata": {},
     "output_type": "execute_result"
    }
   ],
   "source": [
    "df1.loc[0]['Content_Parsed_1']"
   ]
  },
  {
   "cell_type": "code",
   "execution_count": 24,
   "id": "048df475",
   "metadata": {},
   "outputs": [
    {
     "data": {
      "text/plain": [
       "'the continuing evolution of automotive technology aims to deliver even greater safety benefits and automated driving systems (ads) that — one day — can handle the whole task of driving when we don’t want to or can’t do it ourselves. fully automated cars and trucks that drive us, instead of us driving them, will become a reality. these self-driving vehicles ultimately will integrate onto u.s. roadways by progressing through six levels of driver assistance technology advancements in the coming years. driver assistance\\xa0technologies in today’s motor vehicles are already helping to save lives and prevent injuries. a number of today’s new motor vehicles have technology that helps drivers avoid drifting into adjacent lanes or making unsafe lane changes, or that warns drivers of other vehicles behind them when they are backing up, or that brakes automatically if a vehicle ahead of them stops or slows suddenly, among other things. these and other safety technologies use a combination of hardware (sensors, cameras, and radar) and software to help vehicles identify certain safety risks so they can warn the driver to act to avoid a crash. the continuing evolution of automotive technology aims to deliver even greater safety benefits and – one day – deliver automated driving systems (ads)\\xa0that can handle the whole task of driving when we don’t want to or can’t do it ourselves. \\ndownload nhtsa’s voluntary guidance, technical documentation, and additional resources related to automated vehicles. find out what’s included in av 2.0, av 3.0, av 4.0 and what’s changed, and get answers to common questions. download nhtsa’s voluntary guidance, technical documentation, and additional resources related to automated vehicles. find out what’s included in av 2.0, av 3.0, av 4.0 and what’s changed, and get answers to common questions. cruise control \\n seat belts \\n antilock brakes cruise control \\n seat belts \\n antilock brakes electronic stability control \\n blind spot detection \\n forward collision warning \\n lane departure warning electronic stability control \\n blind spot detection \\n forward collision warning \\n lane departure warning rearview video systems \\n automatic emergency braking \\n pedestrian automatic emergency braking \\n rear automatic emergency braking \\n rear cross traffic alert \\n lane centering assist rearview video systems \\n automatic emergency braking \\n pedestrian automatic emergency braking \\n rear automatic emergency braking \\n rear cross traffic alert \\n lane centering assist lane keeping assist \\n adaptive cruise control \\n traffic jam assist \\n self-park lane keeping assist \\n adaptive cruise control \\n traffic jam assist \\n self-park highway autopilot highway autopilot fully autonomous cars and trucks that drive us instead of us driving them will become a reality. these self-driving vehicles ultimately will integrate onto u.s. roadways by progressing through six levels of driver assistance technology advancements in the coming years. this includes everything from no automation (where a fully engaged driver is required at all times), to full autonomy (where an automated vehicle operates independently, without a human driver). \\xa0 the safety benefits of automated vehicles are paramount. automated vehicles’ potential to save lives and reduce injuries is rooted in one critical and tragic fact: 94%\\xa0of serious crashes are due to human error. automated vehicles have the potential to remove human error from the crash equation, which will help protect drivers and passengers, as well as bicyclists and pedestrians. when you consider more than 35,000\\xa0people die\\xa0in motor vehicle-related crashes in the united states each year, you begin to grasp the lifesaving benefits of driver assistance technologies. automated vehicles could deliver additional economic and additional societal benefits. a nhtsa study showed motor vehicle crashes in 2010 cost $242 billion in economic activity, including $57.6 billion in lost workplace productivity, and $594 billion due to loss of life and decreased quality of life due to injuries. eliminating the vast majority of motor vehicle crashes could erase these costs. roads filled with automated vehicles could also cooperate to smooth traffic flow and reduce traffic congestion. americans spent an estimated 6.9 billion hours in traffic delays in 2014, cutting into time at work or with family, increasing fuel costs and vehicle emission. with automated vehicles, the time and money spent commuting could be put to better use. a study stated that automated vehicles could free up as much as 50 minutes each day that had previously been dedicated to driving. while its full societal benefits are difficult to project, the transformative potential of automated vehicles and their driver assistance features can also be understood by reviewing u.s. demographics and the communities these technologies could help to support. for example, automated vehicles may also provide new mobility options to millions more americans. today there are 49 million americans over age 65 and 53 million people have some form of disability. in many places across the country employment or independent living rests on the ability to drive. automated vehicles could extend that kind of freedom to millions more. one study suggests that automated vehicles could create new employment opportunities for approximately 2 million people with disabilities. automated or “self-driving” vehicles are a future technology rather than one that you’ll find in a dealership tomorrow or in the next few years. a variety of technological hurdles have to be cleared, and other important issues must be addressed before these types of vehicles can be available for sale in the united states. the department of transportation is committed to supporting the innovators who are developing these types of vehicles to ensure their safe testing and deployment before they are available to consumers. automated vehicles and driver assisting technologies (including those already in use on the roads) have the potential to reduce crashes, prevent injuries, and save lives. of all serious motor vehicle crashes, 94 percent are due to human error or choices. fully automated vehicles that can see more and act faster than human drivers could greatly reduce errors, the resulting crashes, and their toll. there is no vehicle currently available for sale that is “self-driving.” every vehicle currently for sale in the united states requires the full attention of the driver at all times for safe operation. while an increasing number of vehicles now offer some automated safety features designed to assist the driver under specific conditions, there is no vehicle currently for sale that is fully automated or “self-driving.” many vehicles today include safety features that assist drivers in specific circumstances, such as keeping us from drifting out of our lane or helping us stop in time to avoid a crash or reduce its severity. read more about on this on\\xa0nhtsa s safety technologies topic. if you’re currently shopping for a new vehicle, review nhtsa’s 5-star safety ratings to make informed decisions about the safety features included in your new vehicle. if you re currently shopping for a new vehicle, review\\xa0nhtsa s 5-star safety ratings\\xa0to make informed decisions about the safety features in your new vehicle. vehicles are tested by the companies that build them. companies must comply with federal motor vehicle safety standards and certify that their vehicle is free of safety risks. many companies today are testing advanced automated vehicles to ensure that they operate as intended, but a great deal of work remains to be done to ensure their safe operation before they are made publicly available. cybersecurity is a critical issue that dot and automotive companies are working to address for the future safe deployment of these technologies. advanced vehicle safety technologies depend on an array of electronics, sensors, and computing power. in advancing these features and exploring the potential of fully autonomous vehicles, dot and nhtsa are focused on cybersecurity to ensure that these systems work as intended. you can read more about our approach by visiting\\xa0nhtsa s vehicle cybersecurity topic. these are among many important questions beyond the technical considerations that policymakers are working to address before automated vehicles are made available. we are still many years from fully automated vehicles becoming available to the public. a vehicle that is fully automated will be capable of controlling all aspects of driving without human intervention, regardless of whether its design includes controls for a human driver. companies may take different design approaches to fully “self-driving” vehicles that do or do not include controls allowing for a human driver. as is the case now, consumers will decide what types of vehicle designs best suit their needs. a fully automated vehicle could provide new mobility options for older people and for those with disabilities. some older americans and people with disabilities are able to drive today by adapting or modifying their vehicles to meet their specific needs. fully automated vehicles could offer new mobility options to many more people, helping them to live independently or to better connect them to jobs, education and training, and other opportunities. nhtsa demonstrates its dedication to saving lives on our nation’s roads and highways through its proactive and inclusive approach to the safe development, testing, and deployment of new and advanced vehicle technologies that have enormous potential for improving safety and mobility for all americans, nhtsa demonstrates its dedication to saving lives on our nation’s roads and highways. in september 2016, nhtsa and the u.s. department of transportation issued the federal automated vehicles policy which set forth a proactive approach to providing safety assurance and facilitating innovation. building on that policy and incorporating feedback received through public comments, stakeholder meetings, and congressional hearings, in september 2017, the agency issued, automated driving systems: a vision for safety 2.0. the updated guidance, 2.0, offers a flexible, nonregulatory approach to automated vehicle technology safety, by supporting the automotive industry and other key stakeholders as they consider and design best practices for the safe testing and deployment of ads levels 3 through 5. it also provides technical assistance to states and best practices for policymakers regarding ads. in october 2018, u.s. dot released preparing for the future of transportation: automated vehicles 3.0, which builds upon — but does not replace — the voluntary guidance provided in 2.0. av 3.0 expands the scope to all surface on-road transportation systems, and was developed through input from a diverse set of stakeholder engagements throughout the nation. av 3.0 is structured around three key areas: ensuring american leadership in automated vehicle technologies: automated vehicles 4.0 was released in january 2020. av 4.0 builds upon av 3.0 by expanding the scope to 38 relevant united states government (usg) components that\\xa0have direct or tangential equities in safe development and integration of av technologies. av 4.0 is structured around three key areas:\\xa0 as automated technologies advance, so will the department’s guidance. the guidance is intended to be flexible and to evolve as technology does, but with safety always as the top priority. national highway traffic safety administration \\n1200 new jersey avenue, se\\n\\nwashington, d.c. 20590 1-888-327-42361-800-424-9153 (tty) \\n\\n\\ntwitter\\n\\n\\nfacebook\\n\\n\\nyoutube\\n\\n\\ninstagram\\n \\n\\n\\n\\n'"
      ]
     },
     "execution_count": 24,
     "metadata": {},
     "output_type": "execute_result"
    }
   ],
   "source": [
    "df1.loc[0]['Content_Parsed_2']"
   ]
  },
  {
   "cell_type": "code",
   "execution_count": 25,
   "id": "32c782f9",
   "metadata": {},
   "outputs": [
    {
     "data": {
      "text/plain": [
       "'the continuing evolution of automotive technology aims to deliver even greater safety benefits and automated driving systems (ads) that — one day — can handle the whole task of driving when we don’t want to or can’t do it ourselves fully automated cars and trucks that drive us instead of us driving them will become a reality these self-driving vehicles ultimately will integrate onto us roadways by progressing through six levels of driver assistance technology advancements in the coming years driver assistance\\xa0technologies in today’s motor vehicles are already helping to save lives and prevent injuries a number of today’s new motor vehicles have technology that helps drivers avoid drifting into adjacent lanes or making unsafe lane changes or that warns drivers of other vehicles behind them when they are backing up or that brakes automatically if a vehicle ahead of them stops or slows suddenly among other things these and other safety technologies use a combination of hardware (sensors cameras and radar) and software to help vehicles identify certain safety risks so they can warn the driver to act to avoid a crash the continuing evolution of automotive technology aims to deliver even greater safety benefits and – one day – deliver automated driving systems (ads)\\xa0that can handle the whole task of driving when we don’t want to or can’t do it ourselves \\ndownload nhtsa’s voluntary guidance technical documentation and additional resources related to automated vehicles find out what’s included in av 20 av 30 av 40 and what’s changed and get answers to common questions download nhtsa’s voluntary guidance technical documentation and additional resources related to automated vehicles find out what’s included in av 20 av 30 av 40 and what’s changed and get answers to common questions cruise control \\n seat belts \\n antilock brakes cruise control \\n seat belts \\n antilock brakes electronic stability control \\n blind spot detection \\n forward collision warning \\n lane departure warning electronic stability control \\n blind spot detection \\n forward collision warning \\n lane departure warning rearview video systems \\n automatic emergency braking \\n pedestrian automatic emergency braking \\n rear automatic emergency braking \\n rear cross traffic alert \\n lane centering assist rearview video systems \\n automatic emergency braking \\n pedestrian automatic emergency braking \\n rear automatic emergency braking \\n rear cross traffic alert \\n lane centering assist lane keeping assist \\n adaptive cruise control \\n traffic jam assist \\n self-park lane keeping assist \\n adaptive cruise control \\n traffic jam assist \\n self-park highway autopilot highway autopilot fully autonomous cars and trucks that drive us instead of us driving them will become a reality these self-driving vehicles ultimately will integrate onto us roadways by progressing through six levels of driver assistance technology advancements in the coming years this includes everything from no automation (where a fully engaged driver is required at all times) to full autonomy (where an automated vehicle operates independently without a human driver) \\xa0 the safety benefits of automated vehicles are paramount automated vehicles’ potential to save lives and reduce injuries is rooted in one critical and tragic fact 94%\\xa0of serious crashes are due to human error automated vehicles have the potential to remove human error from the crash equation which will help protect drivers and passengers as well as bicyclists and pedestrians when you consider more than 35000\\xa0people die\\xa0in motor vehicle-related crashes in the united states each year you begin to grasp the lifesaving benefits of driver assistance technologies automated vehicles could deliver additional economic and additional societal benefits a nhtsa study showed motor vehicle crashes in 2010 cost $242 billion in economic activity including $576 billion in lost workplace productivity and $594 billion due to loss of life and decreased quality of life due to injuries eliminating the vast majority of motor vehicle crashes could erase these costs roads filled with automated vehicles could also cooperate to smooth traffic flow and reduce traffic congestion americans spent an estimated 69 billion hours in traffic delays in 2014 cutting into time at work or with family increasing fuel costs and vehicle emission with automated vehicles the time and money spent commuting could be put to better use a study stated that automated vehicles could free up as much as 50 minutes each day that had previously been dedicated to driving while its full societal benefits are difficult to project the transformative potential of automated vehicles and their driver assistance features can also be understood by reviewing us demographics and the communities these technologies could help to support for example automated vehicles may also provide new mobility options to millions more americans today there are 49 million americans over age 65 and 53 million people have some form of disability in many places across the country employment or independent living rests on the ability to drive automated vehicles could extend that kind of freedom to millions more one study suggests that automated vehicles could create new employment opportunities for approximately 2 million people with disabilities automated or “self-driving” vehicles are a future technology rather than one that you’ll find in a dealership tomorrow or in the next few years a variety of technological hurdles have to be cleared and other important issues must be addressed before these types of vehicles can be available for sale in the united states the department of transportation is committed to supporting the innovators who are developing these types of vehicles to ensure their safe testing and deployment before they are available to consumers automated vehicles and driver assisting technologies (including those already in use on the roads) have the potential to reduce crashes prevent injuries and save lives of all serious motor vehicle crashes 94 percent are due to human error or choices fully automated vehicles that can see more and act faster than human drivers could greatly reduce errors the resulting crashes and their toll there is no vehicle currently available for sale that is “self-driving” every vehicle currently for sale in the united states requires the full attention of the driver at all times for safe operation while an increasing number of vehicles now offer some automated safety features designed to assist the driver under specific conditions there is no vehicle currently for sale that is fully automated or “self-driving” many vehicles today include safety features that assist drivers in specific circumstances such as keeping us from drifting out of our lane or helping us stop in time to avoid a crash or reduce its severity read more about on this on\\xa0nhtsa s safety technologies topic if you’re currently shopping for a new vehicle review nhtsa’s 5-star safety ratings to make informed decisions about the safety features included in your new vehicle if you re currently shopping for a new vehicle review\\xa0nhtsa s 5-star safety ratings\\xa0to make informed decisions about the safety features in your new vehicle vehicles are tested by the companies that build them companies must comply with federal motor vehicle safety standards and certify that their vehicle is free of safety risks many companies today are testing advanced automated vehicles to ensure that they operate as intended but a great deal of work remains to be done to ensure their safe operation before they are made publicly available cybersecurity is a critical issue that dot and automotive companies are working to address for the future safe deployment of these technologies advanced vehicle safety technologies depend on an array of electronics sensors and computing power in advancing these features and exploring the potential of fully autonomous vehicles dot and nhtsa are focused on cybersecurity to ensure that these systems work as intended you can read more about our approach by visiting\\xa0nhtsa s vehicle cybersecurity topic these are among many important questions beyond the technical considerations that policymakers are working to address before automated vehicles are made available we are still many years from fully automated vehicles becoming available to the public a vehicle that is fully automated will be capable of controlling all aspects of driving without human intervention regardless of whether its design includes controls for a human driver companies may take different design approaches to fully “self-driving” vehicles that do or do not include controls allowing for a human driver as is the case now consumers will decide what types of vehicle designs best suit their needs a fully automated vehicle could provide new mobility options for older people and for those with disabilities some older americans and people with disabilities are able to drive today by adapting or modifying their vehicles to meet their specific needs fully automated vehicles could offer new mobility options to many more people helping them to live independently or to better connect them to jobs education and training and other opportunities nhtsa demonstrates its dedication to saving lives on our nation’s roads and highways through its proactive and inclusive approach to the safe development testing and deployment of new and advanced vehicle technologies that have enormous potential for improving safety and mobility for all americans nhtsa demonstrates its dedication to saving lives on our nation’s roads and highways in september 2016 nhtsa and the us department of transportation issued the federal automated vehicles policy which set forth a proactive approach to providing safety assurance and facilitating innovation building on that policy and incorporating feedback received through public comments stakeholder meetings and congressional hearings in september 2017 the agency issued automated driving systems a vision for safety 20 the updated guidance 20 offers a flexible nonregulatory approach to automated vehicle technology safety by supporting the automotive industry and other key stakeholders as they consider and design best practices for the safe testing and deployment of ads levels 3 through 5 it also provides technical assistance to states and best practices for policymakers regarding ads in october 2018 us dot released preparing for the future of transportation automated vehicles 30 which builds upon — but does not replace — the voluntary guidance provided in 20 av 30 expands the scope to all surface on-road transportation systems and was developed through input from a diverse set of stakeholder engagements throughout the nation av 30 is structured around three key areas ensuring american leadership in automated vehicle technologies automated vehicles 40 was released in january 2020 av 40 builds upon av 30 by expanding the scope to 38 relevant united states government (usg) components that\\xa0have direct or tangential equities in safe development and integration of av technologies av 40 is structured around three key areas\\xa0 as automated technologies advance so will the department’s guidance the guidance is intended to be flexible and to evolve as technology does but with safety always as the top priority national highway traffic safety administration \\n1200 new jersey avenue se\\n\\nwashington dc 20590 1-888-327-42361-800-424-9153 (tty) \\n\\n\\ntwitter\\n\\n\\nfacebook\\n\\n\\nyoutube\\n\\n\\ninstagram\\n \\n\\n\\n\\n'"
      ]
     },
     "execution_count": 25,
     "metadata": {},
     "output_type": "execute_result"
    }
   ],
   "source": [
    "df1.loc[0]['Content_Parsed_3']"
   ]
  },
  {
   "cell_type": "code",
   "execution_count": 26,
   "id": "f317a653",
   "metadata": {},
   "outputs": [
    {
     "data": {
      "text/plain": [
       "'the continuing evolution of automotive technology aims to deliver even greater safety benefits and automated driving systems (ads) that — one day — can handle the whole task of driving when we don’t want to or can’t do it ourselves fully automated cars and trucks that drive us instead of us driving them will become a reality these self-driving vehicles ultimately will integrate onto us roadways by progressing through six levels of driver assistance technology advancements in the coming years driver assistance\\xa0technologies in today’s motor vehicles are already helping to save lives and prevent injuries a number of today’s new motor vehicles have technology that helps drivers avoid drifting into adjacent lanes or making unsafe lane changes or that warns drivers of other vehicles behind them when they are backing up or that brakes automatically if a vehicle ahead of them stops or slows suddenly among other things these and other safety technologies use a combination of hardware (sensors cameras and radar) and software to help vehicles identify certain safety risks so they can warn the driver to act to avoid a crash the continuing evolution of automotive technology aims to deliver even greater safety benefits and – one day – deliver automated driving systems (ads)\\xa0that can handle the whole task of driving when we don’t want to or can’t do it ourselves \\ndownload nhtsa’s voluntary guidance technical documentation and additional resources related to automated vehicles find out what’s included in av 20 av 30 av 40 and what’s changed and get answers to common questions download nhtsa’s voluntary guidance technical documentation and additional resources related to automated vehicles find out what’s included in av 20 av 30 av 40 and what’s changed and get answers to common questions cruise control \\n seat belts \\n antilock brakes cruise control \\n seat belts \\n antilock brakes electronic stability control \\n blind spot detection \\n forward collision warning \\n lane departure warning electronic stability control \\n blind spot detection \\n forward collision warning \\n lane departure warning rearview video systems \\n automatic emergency braking \\n pedestrian automatic emergency braking \\n rear automatic emergency braking \\n rear cross traffic alert \\n lane centering assist rearview video systems \\n automatic emergency braking \\n pedestrian automatic emergency braking \\n rear automatic emergency braking \\n rear cross traffic alert \\n lane centering assist lane keeping assist \\n adaptive cruise control \\n traffic jam assist \\n self-park lane keeping assist \\n adaptive cruise control \\n traffic jam assist \\n self-park highway autopilot highway autopilot fully autonomous cars and trucks that drive us instead of us driving them will become a reality these self-driving vehicles ultimately will integrate onto us roadways by progressing through six levels of driver assistance technology advancements in the coming years this includes everything from no automation (where a fully engaged driver is required at all times) to full autonomy (where an automated vehicle operates independently without a human driver) \\xa0 the safety benefits of automated vehicles are paramount automated vehicles’ potential to save lives and reduce injuries is rooted in one critical and tragic fact 94%\\xa0of serious crashes are due to human error automated vehicles have the potential to remove human error from the crash equation which will help protect drivers and passengers as well as bicyclists and pedestrians when you consider more than 35000\\xa0people die\\xa0in motor vehicle-related crashes in the united states each year you begin to grasp the lifesaving benefits of driver assistance technologies automated vehicles could deliver additional economic and additional societal benefits a nhtsa study showed motor vehicle crashes in 2010 cost $242 billion in economic activity including $576 billion in lost workplace productivity and $594 billion due to loss of life and decreased quality of life due to injuries eliminating the vast majority of motor vehicle crashes could erase these costs roads filled with automated vehicles could also cooperate to smooth traffic flow and reduce traffic congestion americans spent an estimated 69 billion hours in traffic delays in 2014 cutting into time at work or with family increasing fuel costs and vehicle emission with automated vehicles the time and money spent commuting could be put to better use a study stated that automated vehicles could free up as much as 50 minutes each day that had previously been dedicated to driving while its full societal benefits are difficult to project the transformative potential of automated vehicles and their driver assistance features can also be understood by reviewing us demographics and the communities these technologies could help to support for example automated vehicles may also provide new mobility options to millions more americans today there are 49 million americans over age 65 and 53 million people have some form of disability in many places across the country employment or independent living rests on the ability to drive automated vehicles could extend that kind of freedom to millions more one study suggests that automated vehicles could create new employment opportunities for approximately 2 million people with disabilities automated or “self-driving” vehicles are a future technology rather than one that you’ll find in a dealership tomorrow or in the next few years a variety of technological hurdles have to be cleared and other important issues must be addressed before these types of vehicles can be available for sale in the united states the department of transportation is committed to supporting the innovators who are developing these types of vehicles to ensure their safe testing and deployment before they are available to consumers automated vehicles and driver assisting technologies (including those already in use on the roads) have the potential to reduce crashes prevent injuries and save lives of all serious motor vehicle crashes 94 percent are due to human error or choices fully automated vehicles that can see more and act faster than human drivers could greatly reduce errors the resulting crashes and their toll there is no vehicle currently available for sale that is “self-driving” every vehicle currently for sale in the united states requires the full attention of the driver at all times for safe operation while an increasing number of vehicles now offer some automated safety features designed to assist the driver under specific conditions there is no vehicle currently for sale that is fully automated or “self-driving” many vehicles today include safety features that assist drivers in specific circumstances such as keeping us from drifting out of our lane or helping us stop in time to avoid a crash or reduce its severity read more about on this on\\xa0nhtsa s safety technologies topic if you’re currently shopping for a new vehicle review nhtsa’s 5-star safety ratings to make informed decisions about the safety features included in your new vehicle if you re currently shopping for a new vehicle review\\xa0nhtsa s 5-star safety ratings\\xa0to make informed decisions about the safety features in your new vehicle vehicles are tested by the companies that build them companies must comply with federal motor vehicle safety standards and certify that their vehicle is free of safety risks many companies today are testing advanced automated vehicles to ensure that they operate as intended but a great deal of work remains to be done to ensure their safe operation before they are made publicly available cybersecurity is a critical issue that dot and automotive companies are working to address for the future safe deployment of these technologies advanced vehicle safety technologies depend on an array of electronics sensors and computing power in advancing these features and exploring the potential of fully autonomous vehicles dot and nhtsa are focused on cybersecurity to ensure that these systems work as intended you can read more about our approach by visiting\\xa0nhtsa s vehicle cybersecurity topic these are among many important questions beyond the technical considerations that policymakers are working to address before automated vehicles are made available we are still many years from fully automated vehicles becoming available to the public a vehicle that is fully automated will be capable of controlling all aspects of driving without human intervention regardless of whether its design includes controls for a human driver companies may take different design approaches to fully “self-driving” vehicles that do or do not include controls allowing for a human driver as is the case now consumers will decide what types of vehicle designs best suit their needs a fully automated vehicle could provide new mobility options for older people and for those with disabilities some older americans and people with disabilities are able to drive today by adapting or modifying their vehicles to meet their specific needs fully automated vehicles could offer new mobility options to many more people helping them to live independently or to better connect them to jobs education and training and other opportunities nhtsa demonstrates its dedication to saving lives on our nation’s roads and highways through its proactive and inclusive approach to the safe development testing and deployment of new and advanced vehicle technologies that have enormous potential for improving safety and mobility for all americans nhtsa demonstrates its dedication to saving lives on our nation’s roads and highways in september 2016 nhtsa and the us department of transportation issued the federal automated vehicles policy which set forth a proactive approach to providing safety assurance and facilitating innovation building on that policy and incorporating feedback received through public comments stakeholder meetings and congressional hearings in september 2017 the agency issued automated driving systems a vision for safety 20 the updated guidance 20 offers a flexible nonregulatory approach to automated vehicle technology safety by supporting the automotive industry and other key stakeholders as they consider and design best practices for the safe testing and deployment of ads levels 3 through 5 it also provides technical assistance to states and best practices for policymakers regarding ads in october 2018 us dot released preparing for the future of transportation automated vehicles 30 which builds upon — but does not replace — the voluntary guidance provided in 20 av 30 expands the scope to all surface on-road transportation systems and was developed through input from a diverse set of stakeholder engagements throughout the nation av 30 is structured around three key areas ensuring american leadership in automated vehicle technologies automated vehicles 40 was released in january 2020 av 40 builds upon av 30 by expanding the scope to 38 relevant united states government (usg) components that\\xa0have direct or tangential equities in safe development and integration of av technologies av 40 is structured around three key areas\\xa0 as automated technologies advance so will the department’s guidance the guidance is intended to be flexible and to evolve as technology does but with safety always as the top priority national highway traffic safety administration \\n1200 new jersey avenue se\\n\\nwashington dc 20590 1-888-327-42361-800-424-9153 (tty) \\n\\n\\ntwitter\\n\\n\\nfacebook\\n\\n\\nyoutube\\n\\n\\ninstagram\\n \\n\\n\\n\\n'"
      ]
     },
     "execution_count": 26,
     "metadata": {},
     "output_type": "execute_result"
    }
   ],
   "source": [
    "df1.loc[0]['Content_Parsed_4']"
   ]
  },
  {
   "cell_type": "code",
   "execution_count": 27,
   "id": "02839fdd",
   "metadata": {},
   "outputs": [
    {
     "data": {
      "text/plain": [
       "'the continue evolution of automotive technology aim to deliver even greater safety benefit and automate drive systems (ads) that — one day — can handle the whole task of drive when we don’t want to or can’t do it ourselves fully automate cars and truck that drive us instead of us drive them will become a reality these self-driving vehicles ultimately will integrate onto us roadways by progress through six level of driver assistance technology advancements in the come years driver assistance\\xa0technologies in today’s motor vehicles be already help to save live and prevent injuries a number of today’s new motor vehicles have technology that help drivers avoid drift into adjacent lanes or make unsafe lane change or that warn drivers of other vehicles behind them when they be back up or that brake automatically if a vehicle ahead of them stop or slow suddenly among other things these and other safety technologies use a combination of hardware (sensors cameras and radar) and software to help vehicles identify certain safety risk so they can warn the driver to act to avoid a crash the continue evolution of automotive technology aim to deliver even greater safety benefit and – one day – deliver automate drive systems (ads)\\xa0that can handle the whole task of drive when we don’t want to or can’t do it ourselves \\ndownload nhtsa’s voluntary guidance technical documentation and additional resources relate to automate vehicles find out what’s include in av 20 av 30 av 40 and what’s change and get answer to common question download nhtsa’s voluntary guidance technical documentation and additional resources relate to automate vehicles find out what’s include in av 20 av 30 av 40 and what’s change and get answer to common question cruise control \\n seat belt \\n antilock brake cruise control \\n seat belt \\n antilock brake electronic stability control \\n blind spot detection \\n forward collision warn \\n lane departure warn electronic stability control \\n blind spot detection \\n forward collision warn \\n lane departure warn rearview video systems \\n automatic emergency brake \\n pedestrian automatic emergency brake \\n rear automatic emergency brake \\n rear cross traffic alert \\n lane center assist rearview video systems \\n automatic emergency brake \\n pedestrian automatic emergency brake \\n rear automatic emergency brake \\n rear cross traffic alert \\n lane center assist lane keep assist \\n adaptive cruise control \\n traffic jam assist \\n self-park lane keep assist \\n adaptive cruise control \\n traffic jam assist \\n self-park highway autopilot highway autopilot fully autonomous cars and truck that drive us instead of us drive them will become a reality these self-driving vehicles ultimately will integrate onto us roadways by progress through six level of driver assistance technology advancements in the come years this include everything from no automation (where a fully engage driver be require at all times) to full autonomy (where an automate vehicle operate independently without a human driver) \\xa0 the safety benefit of automate vehicles be paramount automate vehicles’ potential to save live and reduce injuries be root in one critical and tragic fact 94%\\xa0of serious crash be due to human error automate vehicles have the potential to remove human error from the crash equation which will help protect drivers and passengers as well as bicyclists and pedestrians when you consider more than 35000\\xa0people die\\xa0in motor vehicle-related crash in the unite state each year you begin to grasp the lifesaving benefit of driver assistance technologies automate vehicles could deliver additional economic and additional societal benefit a nhtsa study show motor vehicle crash in 2010 cost $242 billion in economic activity include $576 billion in lose workplace productivity and $594 billion due to loss of life and decrease quality of life due to injuries eliminate the vast majority of motor vehicle crash could erase these cost roads fill with automate vehicles could also cooperate to smooth traffic flow and reduce traffic congestion americans spend an estimate 69 billion hours in traffic delay in 2014 cut into time at work or with family increase fuel cost and vehicle emission with automate vehicles the time and money spend commute could be put to better use a study state that automate vehicles could free up as much as 50 minutes each day that have previously be dedicate to drive while its full societal benefit be difficult to project the transformative potential of automate vehicles and their driver assistance feature can also be understand by review us demographics and the communities these technologies could help to support for example automate vehicles may also provide new mobility options to millions more americans today there be 49 million americans over age 65 and 53 million people have some form of disability in many place across the country employment or independent live rest on the ability to drive automate vehicles could extend that kind of freedom to millions more one study suggest that automate vehicles could create new employment opportunities for approximately 2 million people with disabilities automate or “self-driving” vehicles be a future technology rather than one that you’ll find in a dealership tomorrow or in the next few years a variety of technological hurdle have to be clear and other important issue must be address before these type of vehicles can be available for sale in the unite state the department of transportation be commit to support the innovators who be develop these type of vehicles to ensure their safe test and deployment before they be available to consumers automate vehicles and driver assist technologies (including those already in use on the roads) have the potential to reduce crash prevent injuries and save live of all serious motor vehicle crash 94 percent be due to human error or choices fully automate vehicles that can see more and act faster than human drivers could greatly reduce errors the result crash and their toll there be no vehicle currently available for sale that be “self-driving” every vehicle currently for sale in the unite state require the full attention of the driver at all time for safe operation while an increase number of vehicles now offer some automate safety feature design to assist the driver under specific condition there be no vehicle currently for sale that be fully automate or “self-driving” many vehicles today include safety feature that assist drivers in specific circumstances such as keep us from drift out of our lane or help us stop in time to avoid a crash or reduce its severity read more about on this on\\xa0nhtsa s safety technologies topic if you’re currently shop for a new vehicle review nhtsa’s 5-star safety rat to make inform decisions about the safety feature include in your new vehicle if you re currently shop for a new vehicle review\\xa0nhtsa s 5-star safety ratings\\xa0to make inform decisions about the safety feature in your new vehicle vehicles be test by the company that build them company must comply with federal motor vehicle safety standards and certify that their vehicle be free of safety risk many company today be test advance automate vehicles to ensure that they operate as intend but a great deal of work remain to be do to ensure their safe operation before they be make publicly available cybersecurity be a critical issue that dot and automotive company be work to address for the future safe deployment of these technologies advance vehicle safety technologies depend on an array of electronics sensors and compute power in advance these feature and explore the potential of fully autonomous vehicles dot and nhtsa be focus on cybersecurity to ensure that these systems work as intend you can read more about our approach by visiting\\xa0nhtsa s vehicle cybersecurity topic these be among many important question beyond the technical considerations that policymakers be work to address before automate vehicles be make available we be still many years from fully automate vehicles become available to the public a vehicle that be fully automate will be capable of control all aspects of drive without human intervention regardless of whether its design include control for a human driver company may take different design approach to fully “self-driving” vehicles that do or do not include control allow for a human driver as be the case now consumers will decide what type of vehicle design best suit their need a fully automate vehicle could provide new mobility options for older people and for those with disabilities some older americans and people with disabilities be able to drive today by adapt or modify their vehicles to meet their specific need fully automate vehicles could offer new mobility options to many more people help them to live independently or to better connect them to job education and train and other opportunities nhtsa demonstrate its dedication to save live on our nation’s roads and highways through its proactive and inclusive approach to the safe development test and deployment of new and advance vehicle technologies that have enormous potential for improve safety and mobility for all americans nhtsa demonstrate its dedication to save live on our nation’s roads and highways in september 2016 nhtsa and the us department of transportation issue the federal automate vehicles policy which set forth a proactive approach to provide safety assurance and facilitate innovation build on that policy and incorporate feedback receive through public comment stakeholder meet and congressional hear in september 2017 the agency issue automate drive systems a vision for safety 20 the update guidance 20 offer a flexible nonregulatory approach to automate vehicle technology safety by support the automotive industry and other key stakeholders as they consider and design best practice for the safe test and deployment of ads level 3 through 5 it also provide technical assistance to state and best practice for policymakers regard ads in october 2018 us dot release prepare for the future of transportation automate vehicles 30 which build upon — but do not replace — the voluntary guidance provide in 20 av 30 expand the scope to all surface on-road transportation systems and be develop through input from a diverse set of stakeholder engagements throughout the nation av 30 be structure around three key areas ensure american leadership in automate vehicle technologies automate vehicles 40 be release in january 2020 av 40 build upon av 30 by expand the scope to 38 relevant unite state government (usg) components that\\xa0have direct or tangential equities in safe development and integration of av technologies av 40 be structure around three key areas\\xa0 as automate technologies advance so will the department’s guidance the guidance be intend to be flexible and to evolve as technology do but with safety always as the top priority national highway traffic safety administration \\n1200 new jersey avenue se\\n\\nwashington dc 20590 1-888-327-42361-800-424-9153 (tty) \\n\\n\\ntwitter\\n\\n\\nfacebook\\n\\n\\nyoutube\\n\\n\\ninstagram\\n \\n\\n\\n\\n'"
      ]
     },
     "execution_count": 27,
     "metadata": {},
     "output_type": "execute_result"
    }
   ],
   "source": [
    "df1.loc[0]['Content_Parsed_5']"
   ]
  },
  {
   "cell_type": "code",
   "execution_count": 28,
   "id": "e1c04586",
   "metadata": {},
   "outputs": [
    {
     "data": {
      "text/plain": [
       "' continue evolution  automotive technology aim  deliver even greater safety benefit  automate drive systems (ads)  — one day —  handle  whole task  drive   ’ want   ’    fully automate cars  truck  drive us instead  us drive   become  reality  self-driving vehicles ultimately  integrate onto us roadways  progress  six level  driver assistance technology advancements   come years driver assistance\\xa0technologies  today’ motor vehicles  already help  save live  prevent injuries  number  today’ new motor vehicles  technology  help drivers avoid drift  adjacent lanes  make unsafe lane change   warn drivers   vehicles behind     back    brake automatically   vehicle ahead   stop  slow suddenly among  things    safety technologies use  combination  hardware (sensors cameras  radar)  software  help vehicles identify certain safety risk    warn  driver  act  avoid  crash  continue evolution  automotive technology aim  deliver even greater safety benefit  – one day – deliver automate drive systems (ads)\\xa0  handle  whole task  drive   ’ want   ’    \\ndownload nhtsa’ voluntary guidance technical documentation  additional resources relate  automate vehicles find  ’ include  av 20 av 30 av 40  ’ change  get answer  common question download nhtsa’ voluntary guidance technical documentation  additional resources relate  automate vehicles find  ’ include  av 20 av 30 av 40  ’ change  get answer  common question cruise control \\n seat belt \\n antilock brake cruise control \\n seat belt \\n antilock brake electronic stability control \\n blind spot detection \\n forward collision warn \\n lane departure warn electronic stability control \\n blind spot detection \\n forward collision warn \\n lane departure warn rearview video systems \\n automatic emergency brake \\n pedestrian automatic emergency brake \\n rear automatic emergency brake \\n rear cross traffic alert \\n lane center assist rearview video systems \\n automatic emergency brake \\n pedestrian automatic emergency brake \\n rear automatic emergency brake \\n rear cross traffic alert \\n lane center assist lane keep assist \\n adaptive cruise control \\n traffic jam assist \\n self-park lane keep assist \\n adaptive cruise control \\n traffic jam assist \\n self-park highway autopilot highway autopilot fully autonomous cars  truck  drive us instead  us drive   become  reality  self-driving vehicles ultimately  integrate onto us roadways  progress  six level  driver assistance technology advancements   come years  include everything   automation (  fully engage driver  require   times)  full autonomy (  automate vehicle operate independently without  human driver) \\xa0  safety benefit  automate vehicles  paramount automate vehicles’ potential  save live  reduce injuries  root  one critical  tragic fact 94%\\xa0 serious crash  due  human error automate vehicles   potential  remove human error   crash equation   help protect drivers  passengers  well  bicyclists  pedestrians   consider   35000\\xa0people die\\xa0 motor vehicle-related crash   unite state  year  begin  grasp  lifesaving benefit  driver assistance technologies automate vehicles could deliver additional economic  additional societal benefit  nhtsa study show motor vehicle crash  2010 cost $242 billion  economic activity include $576 billion  lose workplace productivity  $594 billion due  loss  life  decrease quality  life due  injuries eliminate  vast majority  motor vehicle crash could erase  cost roads fill  automate vehicles could also cooperate  smooth traffic flow  reduce traffic congestion americans spend  estimate 69 billion hours  traffic delay  2014 cut  time  work   family increase fuel cost  vehicle emission  automate vehicles  time  money spend commute could  put  better use  study state  automate vehicles could free   much  50 minutes  day   previously  dedicate  drive   full societal benefit  difficult  project  transformative potential  automate vehicles   driver assistance feature  also  understand  review us demographics   communities  technologies could help  support  example automate vehicles may also provide new mobility options  millions  americans today   49 million americans  age 65  53 million people   form  disability  many place across  country employment  independent live rest   ability  drive automate vehicles could extend  kind  freedom  millions  one study suggest  automate vehicles could create new employment opportunities  approximately 2 million people  disabilities automate  “self-driving” vehicles   future technology rather  one  ’ find   dealership tomorrow    next  years  variety  technological hurdle    clear   important issue must  address   type  vehicles   available  sale   unite state  department  transportation  commit  support  innovators   develop  type  vehicles  ensure  safe test  deployment    available  consumers automate vehicles  driver assist technologies (including  already  use   roads)   potential  reduce crash prevent injuries  save live   serious motor vehicle crash 94 percent  due  human error  choices fully automate vehicles   see   act faster  human drivers could greatly reduce errors  result crash   toll    vehicle currently available  sale   “self-driving” every vehicle currently  sale   unite state require  full attention   driver   time  safe operation   increase number  vehicles  offer  automate safety feature design  assist  driver  specific condition    vehicle currently  sale   fully automate  “self-driving” many vehicles today include safety feature  assist drivers  specific circumstances   keep us  drift    lane  help us stop  time  avoid  crash  reduce  severity read     \\xa0nhtsa  safety technologies topic  ’ currently shop   new vehicle review nhtsa’ 5-star safety rat  make inform decisions   safety feature include   new vehicle    currently shop   new vehicle review\\xa0nhtsa  5-star safety ratings\\xa0 make inform decisions   safety feature   new vehicle vehicles  test   company  build  company must comply  federal motor vehicle safety standards  certify   vehicle  free  safety risk many company today  test advance automate vehicles  ensure   operate  intend   great deal  work remain     ensure  safe operation    make publicly available cybersecurity   critical issue  dot  automotive company  work  address   future safe deployment   technologies advance vehicle safety technologies depend   array  electronics sensors  compute power  advance  feature  explore  potential  fully autonomous vehicles dot  nhtsa  focus  cybersecurity  ensure   systems work  intend   read    approach  visiting\\xa0nhtsa  vehicle cybersecurity topic   among many important question beyond  technical considerations  policymakers  work  address  automate vehicles  make available   still many years  fully automate vehicles become available   public  vehicle   fully automate   capable  control  aspects  drive without human intervention regardless  whether  design include control   human driver company may take different design approach  fully “self-driving” vehicles      include control allow   human driver    case  consumers  decide  type  vehicle design best suit  need  fully automate vehicle could provide new mobility options  older people     disabilities  older americans  people  disabilities  able  drive today  adapt  modify  vehicles  meet  specific need fully automate vehicles could offer new mobility options  many  people help   live independently   better connect   job education  train   opportunities nhtsa demonstrate  dedication  save live   nation’ roads  highways   proactive  inclusive approach   safe development test  deployment  new  advance vehicle technologies   enormous potential  improve safety  mobility   americans nhtsa demonstrate  dedication  save live   nation’ roads  highways  september 2016 nhtsa   us department  transportation issue  federal automate vehicles policy  set forth  proactive approach  provide safety assurance  facilitate innovation build   policy  incorporate feedback receive  public comment stakeholder meet  congressional hear  september 2017  agency issue automate drive systems  vision  safety 20  update guidance 20 offer  flexible nonregulatory approach  automate vehicle technology safety  support  automotive industry   key stakeholders   consider  design best practice   safe test  deployment  ads level 3  5  also provide technical assistance  state  best practice  policymakers regard ads  october 2018 us dot release prepare   future  transportation automate vehicles 30  build upon —    replace —  voluntary guidance provide  20 av 30 expand  scope   surface -road transportation systems   develop  input   diverse set  stakeholder engagements throughout  nation av 30  structure around three key areas ensure american leadership  automate vehicle technologies automate vehicles 40  release  january 2020 av 40 build upon av 30  expand  scope  38 relevant unite state government (usg) components \\xa0 direct  tangential equities  safe development  integration  av technologies av 40  structure around three key areas\\xa0  automate technologies advance    department’ guidance  guidance  intend   flexible   evolve  technology    safety always   top priority national highway traffic safety administration \\n1200 new jersey avenue se\\n\\nwashington dc 20590 1-888-327-42361-800-424-9153 (tty) \\n\\n\\ntwitter\\n\\n\\nfacebook\\n\\n\\nyoutube\\n\\n\\ninstagram\\n \\n\\n\\n\\n'"
      ]
     },
     "execution_count": 28,
     "metadata": {},
     "output_type": "execute_result"
    }
   ],
   "source": [
    "df1.loc[0]['Content_Parsed_6']"
   ]
  },
  {
   "cell_type": "code",
   "execution_count": 29,
   "id": "36f12ba0",
   "metadata": {},
   "outputs": [
    {
     "data": {
      "text/html": [
       "<div>\n",
       "<style scoped>\n",
       "    .dataframe tbody tr th:only-of-type {\n",
       "        vertical-align: middle;\n",
       "    }\n",
       "\n",
       "    .dataframe tbody tr th {\n",
       "        vertical-align: top;\n",
       "    }\n",
       "\n",
       "    .dataframe thead th {\n",
       "        text-align: right;\n",
       "    }\n",
       "</style>\n",
       "<table border=\"1\" class=\"dataframe\">\n",
       "  <thead>\n",
       "    <tr style=\"text-align: right;\">\n",
       "      <th></th>\n",
       "      <th>Latest</th>\n",
       "      <th>Daily views</th>\n",
       "      <th>Size of article</th>\n",
       "      <th>Content</th>\n",
       "      <th>Content_Parsed_1</th>\n",
       "      <th>Content_Parsed_2</th>\n",
       "      <th>Content_Parsed_3</th>\n",
       "      <th>Content_Parsed_4</th>\n",
       "      <th>Content_Parsed_5</th>\n",
       "      <th>Content_Parsed_6</th>\n",
       "    </tr>\n",
       "  </thead>\n",
       "  <tbody>\n",
       "    <tr>\n",
       "      <th>Automated Vehicles for Safety</th>\n",
       "      <td>2.0</td>\n",
       "      <td>100.0</td>\n",
       "      <td>1025.0</td>\n",
       "      <td>NaN</td>\n",
       "      <td>NaN</td>\n",
       "      <td>NaN</td>\n",
       "      <td>NaN</td>\n",
       "      <td>NaN</td>\n",
       "      <td>NaN</td>\n",
       "      <td>NaN</td>\n",
       "    </tr>\n",
       "    <tr>\n",
       "      <th>Volkswagen CEO: smart cars, not e-cars, are gamechanger</th>\n",
       "      <td>1.0</td>\n",
       "      <td>500.0</td>\n",
       "      <td>645.0</td>\n",
       "      <td>NaN</td>\n",
       "      <td>NaN</td>\n",
       "      <td>NaN</td>\n",
       "      <td>NaN</td>\n",
       "      <td>NaN</td>\n",
       "      <td>NaN</td>\n",
       "      <td>NaN</td>\n",
       "    </tr>\n",
       "    <tr>\n",
       "      <th>Despite High Hopes, Self-Driving Cars Are ‘Way in the Future’</th>\n",
       "      <td>1.0</td>\n",
       "      <td>100.0</td>\n",
       "      <td>785.0</td>\n",
       "      <td>NaN</td>\n",
       "      <td>NaN</td>\n",
       "      <td>NaN</td>\n",
       "      <td>NaN</td>\n",
       "      <td>NaN</td>\n",
       "      <td>NaN</td>\n",
       "      <td>NaN</td>\n",
       "    </tr>\n",
       "    <tr>\n",
       "      <th>0</th>\n",
       "      <td>NaN</td>\n",
       "      <td>NaN</td>\n",
       "      <td>NaN</td>\n",
       "      <td>The continuing evolution of automotive technol...</td>\n",
       "      <td>The continuing evolution of automotive technol...</td>\n",
       "      <td>the continuing evolution of automotive technol...</td>\n",
       "      <td>the continuing evolution of automotive technol...</td>\n",
       "      <td>the continuing evolution of automotive technol...</td>\n",
       "      <td>the continue evolution of automotive technolog...</td>\n",
       "      <td>continue evolution  automotive technology aim...</td>\n",
       "    </tr>\n",
       "  </tbody>\n",
       "</table>\n",
       "</div>"
      ],
      "text/plain": [
       "                                                    Latest  Daily views  \\\n",
       "Automated Vehicles for Safety                          2.0        100.0   \n",
       "Volkswagen CEO: smart cars, not e-cars, are gam...     1.0        500.0   \n",
       "Despite High Hopes, Self-Driving Cars Are ‘Way ...     1.0        100.0   \n",
       "0                                                      NaN          NaN   \n",
       "\n",
       "                                                    Size of article  \\\n",
       "Automated Vehicles for Safety                                1025.0   \n",
       "Volkswagen CEO: smart cars, not e-cars, are gam...            645.0   \n",
       "Despite High Hopes, Self-Driving Cars Are ‘Way ...            785.0   \n",
       "0                                                               NaN   \n",
       "\n",
       "                                                                                              Content  \\\n",
       "Automated Vehicles for Safety                                                                     NaN   \n",
       "Volkswagen CEO: smart cars, not e-cars, are gam...                                                NaN   \n",
       "Despite High Hopes, Self-Driving Cars Are ‘Way ...                                                NaN   \n",
       "0                                                   The continuing evolution of automotive technol...   \n",
       "\n",
       "                                                                                     Content_Parsed_1  \\\n",
       "Automated Vehicles for Safety                                                                     NaN   \n",
       "Volkswagen CEO: smart cars, not e-cars, are gam...                                                NaN   \n",
       "Despite High Hopes, Self-Driving Cars Are ‘Way ...                                                NaN   \n",
       "0                                                   The continuing evolution of automotive technol...   \n",
       "\n",
       "                                                                                     Content_Parsed_2  \\\n",
       "Automated Vehicles for Safety                                                                     NaN   \n",
       "Volkswagen CEO: smart cars, not e-cars, are gam...                                                NaN   \n",
       "Despite High Hopes, Self-Driving Cars Are ‘Way ...                                                NaN   \n",
       "0                                                   the continuing evolution of automotive technol...   \n",
       "\n",
       "                                                                                     Content_Parsed_3  \\\n",
       "Automated Vehicles for Safety                                                                     NaN   \n",
       "Volkswagen CEO: smart cars, not e-cars, are gam...                                                NaN   \n",
       "Despite High Hopes, Self-Driving Cars Are ‘Way ...                                                NaN   \n",
       "0                                                   the continuing evolution of automotive technol...   \n",
       "\n",
       "                                                                                     Content_Parsed_4  \\\n",
       "Automated Vehicles for Safety                                                                     NaN   \n",
       "Volkswagen CEO: smart cars, not e-cars, are gam...                                                NaN   \n",
       "Despite High Hopes, Self-Driving Cars Are ‘Way ...                                                NaN   \n",
       "0                                                   the continuing evolution of automotive technol...   \n",
       "\n",
       "                                                                                     Content_Parsed_5  \\\n",
       "Automated Vehicles for Safety                                                                     NaN   \n",
       "Volkswagen CEO: smart cars, not e-cars, are gam...                                                NaN   \n",
       "Despite High Hopes, Self-Driving Cars Are ‘Way ...                                                NaN   \n",
       "0                                                   the continue evolution of automotive technolog...   \n",
       "\n",
       "                                                                                     Content_Parsed_6  \n",
       "Automated Vehicles for Safety                                                                     NaN  \n",
       "Volkswagen CEO: smart cars, not e-cars, are gam...                                                NaN  \n",
       "Despite High Hopes, Self-Driving Cars Are ‘Way ...                                                NaN  \n",
       "0                                                    continue evolution  automotive technology aim...  "
      ]
     },
     "execution_count": 29,
     "metadata": {},
     "output_type": "execute_result"
    }
   ],
   "source": [
    "df2 = pd.DataFrame()\n",
    "df = pd.read_csv('Article.csv', index_col=0)\n",
    "df2 = df.append(df1)\n",
    "\n",
    "df.append(df2)\n",
    "df.to_csv('Test.csv',index=False)\n",
    "df2"
   ]
  },
  {
   "cell_type": "code",
   "execution_count": 30,
   "id": "0e570438",
   "metadata": {},
   "outputs": [],
   "source": [
    "list_columns = [\"Latest\", \"Daily views\", \"Content_Parsed_6\"]\n",
    "df2 = df2[list_columns]"
   ]
  },
  {
   "cell_type": "code",
   "execution_count": 31,
   "id": "8d65a720",
   "metadata": {},
   "outputs": [],
   "source": [
    "list_columns = [\"Latest\", \"Daily views\", \"Content_Parsed_6\"]\n",
    "df2 = df2[list_columns]\n",
    "\n",
    "df2 = df2.rename(columns={'Content_Parsed_6': 'Content_Parsed'})"
   ]
  },
  {
   "cell_type": "code",
   "execution_count": 32,
   "id": "4cceb728",
   "metadata": {},
   "outputs": [
    {
     "data": {
      "text/plain": [
       "Automated Vehicles for Safety                                                                                  NaN\n",
       "Volkswagen CEO: smart cars, not e-cars, are gamechanger                                                        NaN\n",
       "Despite High Hopes, Self-Driving Cars Are ‘Way in the Future’                                                  NaN\n",
       "0                                                                 continue evolution  automotive technology aim...\n",
       "Name: Content_Parsed, dtype: object"
      ]
     },
     "execution_count": 32,
     "metadata": {},
     "output_type": "execute_result"
    }
   ],
   "source": [
    "Final_content = df2['Content_Parsed']\n",
    "\n",
    "Final_content"
   ]
  },
  {
   "cell_type": "code",
   "execution_count": 33,
   "id": "e644809b",
   "metadata": {},
   "outputs": [],
   "source": [
    "loaded_model = pickle.load(open('Latest-News-Classifier-master/0. Latest News Classifier/04. Model Training/Models/best_knnc.pickle', 'rb'))\n",
    "X_train = pickle.load(open('Latest-News-Classifier-master/0. Latest News Classifier/03. Feature Engineering/Pickles/features_train.pickle', 'rb'))\n",
    "y_train = pickle.load(open('Latest-News-Classifier-master/0. Latest News Classifier/03. Feature Engineering/Pickles/y_train.pickle', 'rb'))"
   ]
  },
  {
   "cell_type": "code",
   "execution_count": 34,
   "id": "30edcea5",
   "metadata": {},
   "outputs": [
    {
     "data": {
      "text/plain": [
       "(1891, 300)"
      ]
     },
     "execution_count": 34,
     "metadata": {},
     "output_type": "execute_result"
    }
   ],
   "source": [
    "X_train.shape"
   ]
  }
 ],
 "metadata": {
  "kernelspec": {
   "display_name": "Python 3",
   "language": "python",
   "name": "python3"
  },
  "language_info": {
   "codemirror_mode": {
    "name": "ipython",
    "version": 3
   },
   "file_extension": ".py",
   "mimetype": "text/x-python",
   "name": "python",
   "nbconvert_exporter": "python",
   "pygments_lexer": "ipython3",
   "version": "3.8.8"
  }
 },
 "nbformat": 4,
 "nbformat_minor": 5
}
