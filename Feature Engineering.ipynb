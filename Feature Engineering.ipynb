{
 "cells": [
  {
   "cell_type": "code",
   "execution_count": 75,
   "id": "53f1ee89",
   "metadata": {},
   "outputs": [],
   "source": [
    "import pickle\n",
    "import pandas as pd\n",
    "import re\n",
    "import nltk\n",
    "from nltk.corpus import stopwords\n",
    "from nltk.stem import WordNetLemmatizer\n",
    "from sklearn.feature_extraction.text import TfidfVectorizer\n",
    "from sklearn.model_selection import train_test_split\n",
    "from sklearn.feature_selection import chi2\n",
    "import numpy as np"
   ]
  },
  {
   "cell_type": "code",
   "execution_count": 76,
   "id": "aa4c0549",
   "metadata": {},
   "outputs": [],
   "source": [
    "#Loading the dataset\n",
    "\n",
    "path_df = \"Latest-News-Classifier-master/0. Latest News Classifier/03. Feature Engineering/Pickles/News_dataset.pickle\"\n",
    "\n",
    "with open(path_df, 'rb') as data:\n",
    "    df = pickle.load(data)"
   ]
  },
  {
   "cell_type": "code",
   "execution_count": 77,
   "id": "4d08e5e1",
   "metadata": {
    "scrolled": true
   },
   "outputs": [
    {
     "data": {
      "text/html": [
       "<div>\n",
       "<style scoped>\n",
       "    .dataframe tbody tr th:only-of-type {\n",
       "        vertical-align: middle;\n",
       "    }\n",
       "\n",
       "    .dataframe tbody tr th {\n",
       "        vertical-align: top;\n",
       "    }\n",
       "\n",
       "    .dataframe thead th {\n",
       "        text-align: right;\n",
       "    }\n",
       "</style>\n",
       "<table border=\"1\" class=\"dataframe\">\n",
       "  <thead>\n",
       "    <tr style=\"text-align: right;\">\n",
       "      <th></th>\n",
       "      <th>Unnamed: 0</th>\n",
       "      <th>File_Name</th>\n",
       "      <th>Content</th>\n",
       "      <th>Category</th>\n",
       "      <th>Complete_Filename</th>\n",
       "      <th>id</th>\n",
       "      <th>News_length</th>\n",
       "    </tr>\n",
       "  </thead>\n",
       "  <tbody>\n",
       "    <tr>\n",
       "      <th>0</th>\n",
       "      <td>0</td>\n",
       "      <td>WASHINGTON, DC - NOVEMBER 24: U.S. first lady ...</td>\n",
       "      <td>Brazil contains about 60% of the Amazon rainfo...</td>\n",
       "      <td>Amazon</td>\n",
       "      <td>NaN</td>\n",
       "      <td>1</td>\n",
       "      <td>606</td>\n",
       "    </tr>\n",
       "    <tr>\n",
       "      <th>1</th>\n",
       "      <td>1</td>\n",
       "      <td>The \"lungs of the planet\" are burning.\\n\\nAs t...</td>\n",
       "      <td>As thousands of fiery infernos rage across the...</td>\n",
       "      <td>Amazon</td>\n",
       "      <td>NaN</td>\n",
       "      <td>1</td>\n",
       "      <td>599</td>\n",
       "    </tr>\n",
       "    <tr>\n",
       "      <th>2</th>\n",
       "      <td>2</td>\n",
       "      <td>michael barbaro\\n\\nFrom The New York Times, I’...</td>\n",
       "      <td>This is “The Daily.” Today: More than 26,000 f...</td>\n",
       "      <td>Amazon</td>\n",
       "      <td>NaN</td>\n",
       "      <td>1</td>\n",
       "      <td>533</td>\n",
       "    </tr>\n",
       "    <tr>\n",
       "      <th>3</th>\n",
       "      <td>3</td>\n",
       "      <td>In honor of Amazon Prime Day, let’s take a loo...</td>\n",
       "      <td>Amazon’s flywheel approach means that innovati...</td>\n",
       "      <td>Amazon</td>\n",
       "      <td>NaN</td>\n",
       "      <td>1</td>\n",
       "      <td>583</td>\n",
       "    </tr>\n",
       "    <tr>\n",
       "      <th>4</th>\n",
       "      <td>4</td>\n",
       "      <td>Amazon announced in its earnings report for th...</td>\n",
       "      <td>Amazon announced in its earnings report for th...</td>\n",
       "      <td>Amazon</td>\n",
       "      <td>NaN</td>\n",
       "      <td>1</td>\n",
       "      <td>838</td>\n",
       "    </tr>\n",
       "    <tr>\n",
       "      <th>...</th>\n",
       "      <td>...</td>\n",
       "      <td>...</td>\n",
       "      <td>...</td>\n",
       "      <td>...</td>\n",
       "      <td>...</td>\n",
       "      <td>...</td>\n",
       "      <td>...</td>\n",
       "    </tr>\n",
       "    <tr>\n",
       "      <th>1859</th>\n",
       "      <td>1859</td>\n",
       "      <td>507.txt</td>\n",
       "      <td>Big guns ease through in San Jose\\n\\nTop-seede...</td>\n",
       "      <td>sport</td>\n",
       "      <td>507.txt-sport</td>\n",
       "      <td>1</td>\n",
       "      <td>1370</td>\n",
       "    </tr>\n",
       "    <tr>\n",
       "      <th>1860</th>\n",
       "      <td>1860</td>\n",
       "      <td>508.txt</td>\n",
       "      <td>Almagro continues Spanish surge\\n\\nUnseeded Ni...</td>\n",
       "      <td>sport</td>\n",
       "      <td>508.txt-sport</td>\n",
       "      <td>1</td>\n",
       "      <td>775</td>\n",
       "    </tr>\n",
       "    <tr>\n",
       "      <th>1861</th>\n",
       "      <td>1861</td>\n",
       "      <td>509.txt</td>\n",
       "      <td>Melzer shocks Agassi in San Jose\\n\\nSecond see...</td>\n",
       "      <td>sport</td>\n",
       "      <td>509.txt-sport</td>\n",
       "      <td>1</td>\n",
       "      <td>1148</td>\n",
       "    </tr>\n",
       "    <tr>\n",
       "      <th>1862</th>\n",
       "      <td>1862</td>\n",
       "      <td>510.txt</td>\n",
       "      <td>Mirza makes Indian tennis history\\n\\nTeenager ...</td>\n",
       "      <td>sport</td>\n",
       "      <td>510.txt-sport</td>\n",
       "      <td>1</td>\n",
       "      <td>1773</td>\n",
       "    </tr>\n",
       "    <tr>\n",
       "      <th>1863</th>\n",
       "      <td>1863</td>\n",
       "      <td>511.txt</td>\n",
       "      <td>Roddick to face Saulnier in final\\n\\nAndy Rodd...</td>\n",
       "      <td>sport</td>\n",
       "      <td>511.txt-sport</td>\n",
       "      <td>1</td>\n",
       "      <td>1173</td>\n",
       "    </tr>\n",
       "  </tbody>\n",
       "</table>\n",
       "<p>1864 rows × 7 columns</p>\n",
       "</div>"
      ],
      "text/plain": [
       "      Unnamed: 0                                          File_Name  \\\n",
       "0              0  WASHINGTON, DC - NOVEMBER 24: U.S. first lady ...   \n",
       "1              1  The \"lungs of the planet\" are burning.\\n\\nAs t...   \n",
       "2              2  michael barbaro\\n\\nFrom The New York Times, I’...   \n",
       "3              3  In honor of Amazon Prime Day, let’s take a loo...   \n",
       "4              4  Amazon announced in its earnings report for th...   \n",
       "...          ...                                                ...   \n",
       "1859        1859                                            507.txt   \n",
       "1860        1860                                            508.txt   \n",
       "1861        1861                                            509.txt   \n",
       "1862        1862                                            510.txt   \n",
       "1863        1863                                            511.txt   \n",
       "\n",
       "                                                Content Category  \\\n",
       "0     Brazil contains about 60% of the Amazon rainfo...   Amazon   \n",
       "1     As thousands of fiery infernos rage across the...   Amazon   \n",
       "2     This is “The Daily.” Today: More than 26,000 f...   Amazon   \n",
       "3     Amazon’s flywheel approach means that innovati...   Amazon   \n",
       "4     Amazon announced in its earnings report for th...   Amazon   \n",
       "...                                                 ...      ...   \n",
       "1859  Big guns ease through in San Jose\\n\\nTop-seede...    sport   \n",
       "1860  Almagro continues Spanish surge\\n\\nUnseeded Ni...    sport   \n",
       "1861  Melzer shocks Agassi in San Jose\\n\\nSecond see...    sport   \n",
       "1862  Mirza makes Indian tennis history\\n\\nTeenager ...    sport   \n",
       "1863  Roddick to face Saulnier in final\\n\\nAndy Rodd...    sport   \n",
       "\n",
       "     Complete_Filename  id  News_length  \n",
       "0                  NaN   1          606  \n",
       "1                  NaN   1          599  \n",
       "2                  NaN   1          533  \n",
       "3                  NaN   1          583  \n",
       "4                  NaN   1          838  \n",
       "...                ...  ..          ...  \n",
       "1859     507.txt-sport   1         1370  \n",
       "1860     508.txt-sport   1          775  \n",
       "1861     509.txt-sport   1         1148  \n",
       "1862     510.txt-sport   1         1773  \n",
       "1863     511.txt-sport   1         1173  \n",
       "\n",
       "[1864 rows x 7 columns]"
      ]
     },
     "execution_count": 77,
     "metadata": {},
     "output_type": "execute_result"
    }
   ],
   "source": [
    "df"
   ]
  },
  {
   "cell_type": "code",
   "execution_count": 78,
   "id": "85e6a0a0",
   "metadata": {},
   "outputs": [
    {
     "data": {
      "text/plain": [
       "'Brazil contains about 60% of the Amazon rainforest, whose degradation could have severe consequences for global climate and rainfall.\\n(AP Photo/Victor R. Caivano)CNN —Brazil’s Amazon rainforest is in flames, burning at the highest rate since 2013, when that nation’s space research center first began tracking fires there.\\nHow big is the Amazon rainforest and what does it matter?\\nThis means more than one-and-a-half soccer fields of Amazon rainforest are being destroyed every minute of every day, INPE has stated.\\nBolsonaro recently stated an alternative explanation for the recent spate of Amazon fires.'"
      ]
     },
     "execution_count": 78,
     "metadata": {},
     "output_type": "execute_result"
    }
   ],
   "source": [
    "df.loc[0]['Content']"
   ]
  },
  {
   "cell_type": "markdown",
   "id": "ff897741",
   "metadata": {},
   "source": [
    "## TEXT CLEANING"
   ]
  },
  {
   "cell_type": "code",
   "execution_count": 79,
   "id": "72eeef7f",
   "metadata": {},
   "outputs": [],
   "source": [
    "# Removing the special characters\n",
    "\n",
    "# \\r and \\n\n",
    "df['Content_Parsed_1'] = df['Content'].str.replace(\"\\r\", \" \")\n",
    "df['Content_Parsed_1'] = df['Content_Parsed_1'].str.replace(\"\\n\", \" \")\n",
    "df['Content_Parsed_1'] = df['Content_Parsed_1'].str.replace(\"    \", \" \")"
   ]
  },
  {
   "cell_type": "code",
   "execution_count": 80,
   "id": "43b2688d",
   "metadata": {},
   "outputs": [
    {
     "data": {
      "text/plain": [
       "'Brazil contains about 60% of the Amazon rainforest, whose degradation could have severe consequences for global climate and rainfall. (AP Photo/Victor R. Caivano)CNN —Brazil’s Amazon rainforest is in flames, burning at the highest rate since 2013, when that nation’s space research center first began tracking fires there. How big is the Amazon rainforest and what does it matter? This means more than one-and-a-half soccer fields of Amazon rainforest are being destroyed every minute of every day, INPE has stated. Bolsonaro recently stated an alternative explanation for the recent spate of Amazon fires.'"
      ]
     },
     "execution_count": 80,
     "metadata": {},
     "output_type": "execute_result"
    }
   ],
   "source": [
    "df.loc[0]['Content_Parsed_1']"
   ]
  },
  {
   "cell_type": "code",
   "execution_count": 81,
   "id": "78b85bca",
   "metadata": {},
   "outputs": [
    {
     "data": {
      "text/plain": [
       "'brazil contains about 60% of the amazon rainforest, whose degradation could have severe consequences for global climate and rainfall. (ap photo/victor r. caivano)cnn —brazil’s amazon rainforest is in flames, burning at the highest rate since 2013, when that nation’s space research center first began tracking fires there. how big is the amazon rainforest and what does it matter? this means more than one-and-a-half soccer fields of amazon rainforest are being destroyed every minute of every day, inpe has stated. bolsonaro recently stated an alternative explanation for the recent spate of amazon fires.'"
      ]
     },
     "execution_count": 81,
     "metadata": {},
     "output_type": "execute_result"
    }
   ],
   "source": [
    "#removing quotes, punctutaion etc\n",
    "\n",
    "df['Content_Parsed_1'] = df['Content_Parsed_1'].str.replace('\"', '')\n",
    "\n",
    "#convert the text tolower case\n",
    "df['Content_Parsed_2'] = df['Content_Parsed_1'].str.lower()\n",
    "\n",
    "df.loc[0]['Content_Parsed_2'] "
   ]
  },
  {
   "cell_type": "code",
   "execution_count": 82,
   "id": "30a7fea3",
   "metadata": {},
   "outputs": [
    {
     "name": "stderr",
     "output_type": "stream",
     "text": [
      "<ipython-input-82-855789754928>:6: FutureWarning: The default value of regex will change from True to False in a future version. In addition, single character regular expressions will*not* be treated as literal strings when regex=True.\n",
      "  df['Content_Parsed_3'] = df['Content_Parsed_3'].str.replace(punct_sign, '')\n"
     ]
    },
    {
     "data": {
      "text/plain": [
       "'brazil contains about 60% of the amazon rainforest whose degradation could have severe consequences for global climate and rainfall (ap photo/victor r caivano)cnn —brazil’s amazon rainforest is in flames burning at the highest rate since 2013 when that nation’s space research center first began tracking fires there how big is the amazon rainforest and what does it matter this means more than one-and-a-half soccer fields of amazon rainforest are being destroyed every minute of every day inpe has stated bolsonaro recently stated an alternative explanation for the recent spate of amazon fires'"
      ]
     },
     "execution_count": 82,
     "metadata": {},
     "output_type": "execute_result"
    }
   ],
   "source": [
    "#punctuation\n",
    "punctuation_signs = list(\"?:!.,;\")\n",
    "df['Content_Parsed_3'] = df['Content_Parsed_2']\n",
    "\n",
    "for punct_sign in punctuation_signs:\n",
    "    df['Content_Parsed_3'] = df['Content_Parsed_3'].str.replace(punct_sign, '')\n",
    "\n",
    "\n",
    "df.loc[0]['Content_Parsed_3']"
   ]
  },
  {
   "cell_type": "code",
   "execution_count": 83,
   "id": "2d2a0280",
   "metadata": {},
   "outputs": [
    {
     "data": {
      "text/plain": [
       "'brazil contains about 60% of the amazon rainforest whose degradation could have severe consequences for global climate and rainfall (ap photo/victor r caivano)cnn —brazil’s amazon rainforest is in flames burning at the highest rate since 2013 when that nation’s space research center first began tracking fires there how big is the amazon rainforest and what does it matter this means more than one-and-a-half soccer fields of amazon rainforest are being destroyed every minute of every day inpe has stated bolsonaro recently stated an alternative explanation for the recent spate of amazon fires'"
      ]
     },
     "execution_count": 83,
     "metadata": {},
     "output_type": "execute_result"
    }
   ],
   "source": [
    "# removing the 's\n",
    "df['Content_Parsed_4'] = df['Content_Parsed_3'].str.replace(\"'s\", \"\")\n",
    "\n",
    "df.loc[0]['Content_Parsed_4']"
   ]
  },
  {
   "cell_type": "markdown",
   "id": "95090570",
   "metadata": {},
   "source": [
    "## Stemming and Lemmatization"
   ]
  },
  {
   "cell_type": "code",
   "execution_count": 84,
   "id": "1ac6fa67",
   "metadata": {},
   "outputs": [],
   "source": [
    "# Saving the lemmatizer into an object\n",
    "wordnet_lemmatizer = WordNetLemmatizer()"
   ]
  },
  {
   "cell_type": "code",
   "execution_count": 85,
   "id": "cd866c61",
   "metadata": {},
   "outputs": [],
   "source": [
    "#df = df.dropna().reset_index(drop = False)"
   ]
  },
  {
   "cell_type": "code",
   "execution_count": 86,
   "id": "cbdd79cc",
   "metadata": {},
   "outputs": [
    {
     "data": {
      "text/plain": [
       "'brazil contains about 60% of the amazon rainforest whose degradation could have severe consequences for global climate and rainfall (ap photo/victor r caivano)cnn —brazil’s amazon rainforest is in flames burning at the highest rate since 2013 when that nation’s space research center first began tracking fires there how big is the amazon rainforest and what does it matter this means more than one-and-a-half soccer fields of amazon rainforest are being destroyed every minute of every day inpe has stated bolsonaro recently stated an alternative explanation for the recent spate of amazon fires'"
      ]
     },
     "execution_count": 86,
     "metadata": {},
     "output_type": "execute_result"
    }
   ],
   "source": [
    "df.loc[0]['Content_Parsed_4']"
   ]
  },
  {
   "cell_type": "code",
   "execution_count": 87,
   "id": "ebb51def",
   "metadata": {},
   "outputs": [],
   "source": [
    "#iterating every word for lemmatization\n",
    "\n",
    "nrows = len(df)\n",
    "lemmatized_text_list = []\n",
    "\n",
    "for row in range(0, nrows):\n",
    "    \n",
    "    # Create an empty list containing lemmatized words\n",
    "    lemmatized_list = []\n",
    "    \n",
    "    # Save the text and its words into an object\n",
    "    text = df.loc[row]['Content_Parsed_4']\n",
    "    text_words = text.split(\" \")\n",
    "\n",
    "    # Iterate through every word to lemmatize\n",
    "    for word in text_words:\n",
    "        lemmatized_list.append(wordnet_lemmatizer.lemmatize(word, pos=\"v\"))\n",
    "        \n",
    "    # Join the list\n",
    "    lemmatized_text = \" \".join(lemmatized_list)\n",
    "    \n",
    "    # Append to the list containing the texts\n",
    "    lemmatized_text_list.append(lemmatized_text)"
   ]
  },
  {
   "cell_type": "code",
   "execution_count": 88,
   "id": "9ba2fd20",
   "metadata": {},
   "outputs": [],
   "source": [
    "df['Content_Parsed_5'] = lemmatized_text_list"
   ]
  },
  {
   "cell_type": "markdown",
   "id": "5fa49e23",
   "metadata": {},
   "source": [
    "## STOP WORDS"
   ]
  },
  {
   "cell_type": "code",
   "execution_count": 89,
   "id": "2b1686ef",
   "metadata": {},
   "outputs": [],
   "source": [
    "stop_words = list(stopwords.words('english'))"
   ]
  },
  {
   "cell_type": "code",
   "execution_count": 90,
   "id": "bae72902",
   "metadata": {},
   "outputs": [
    {
     "data": {
      "text/plain": [
       "['i', 'me', 'my', 'myself', 'we', 'our', 'ours', 'ourselves', 'you', \"you're\"]"
      ]
     },
     "execution_count": 90,
     "metadata": {},
     "output_type": "execute_result"
    }
   ],
   "source": [
    "stop_words[0:10]"
   ]
  },
  {
   "cell_type": "code",
   "execution_count": 91,
   "id": "fae8c630",
   "metadata": {},
   "outputs": [
    {
     "data": {
      "text/plain": [
       "'StopWord eating a meal'"
      ]
     },
     "execution_count": 91,
     "metadata": {},
     "output_type": "execute_result"
    }
   ],
   "source": [
    "# EXAMPLE\n",
    "\n",
    "example = \"me eating a meal\"\n",
    "word = \"me\"\n",
    "\n",
    "# The regular expression is:\n",
    "regex = r\"\\b\" + word + r\"\\b\"  # we need to build it like that to work properly\n",
    "\n",
    "re.sub(regex, \"StopWord\", example)"
   ]
  },
  {
   "cell_type": "code",
   "execution_count": 92,
   "id": "1920f872",
   "metadata": {},
   "outputs": [
    {
     "name": "stderr",
     "output_type": "stream",
     "text": [
      "<ipython-input-92-3b7196a1b53b>:6: FutureWarning: The default value of regex will change from True to False in a future version.\n",
      "  df['Content_Parsed_6'] = df['Content_Parsed_6'].str.replace(regex_stopword, '')\n"
     ]
    }
   ],
   "source": [
    "df['Content_Parsed_6'] = df['Content_Parsed_5']\n",
    "\n",
    "for stop_word in stop_words:\n",
    "\n",
    "    regex_stopword = r\"\\b\" + stop_word + r\"\\b\"\n",
    "    df['Content_Parsed_6'] = df['Content_Parsed_6'].str.replace(regex_stopword, '')"
   ]
  },
  {
   "cell_type": "code",
   "execution_count": 93,
   "id": "621d5482",
   "metadata": {},
   "outputs": [
    {
     "data": {
      "text/plain": [
       "'Brazil contains about 60% of the Amazon rainforest, whose degradation could have severe consequences for global climate and rainfall.\\n(AP Photo/Victor R. Caivano)CNN —Brazil’s Amazon rainforest is in flames, burning at the highest rate since 2013, when that nation’s space research center first began tracking fires there.\\nHow big is the Amazon rainforest and what does it matter?\\nThis means more than one-and-a-half soccer fields of Amazon rainforest are being destroyed every minute of every day, INPE has stated.\\nBolsonaro recently stated an alternative explanation for the recent spate of Amazon fires.'"
      ]
     },
     "execution_count": 93,
     "metadata": {},
     "output_type": "execute_result"
    }
   ],
   "source": [
    "#Special character removal o/p\n",
    "df.loc[0]['Content']"
   ]
  },
  {
   "cell_type": "code",
   "execution_count": 94,
   "id": "c3bc16e7",
   "metadata": {},
   "outputs": [
    {
     "data": {
      "text/plain": [
       "\"As thousands of fiery infernos rage across the Amazon rainforest, tropical vegetation, trees, and the fauna they house are being razed. Since August 15, more than 9,500 new forest fires have started across Brazil, primarily in the Amazon basin. (NOAA)'The sky randomly turned dark'As the world's largest rainforest, the Amazon plays a crucial role in keeping our planet's carbon-dioxide levels in check. Farmers and loggers also purposefully set fire to the rainforest to clear swaths of the Amazon for industrial or agricultural use. The Amazon shrunk by 519 square miles (1,345 square kilometers).\""
      ]
     },
     "execution_count": 94,
     "metadata": {},
     "output_type": "execute_result"
    }
   ],
   "source": [
    "#lower case o/p\n",
    "df.loc[1]['Content_Parsed_1']"
   ]
  },
  {
   "cell_type": "code",
   "execution_count": 95,
   "id": "6445559b",
   "metadata": {},
   "outputs": [
    {
     "data": {
      "text/plain": [
       "\"as thousands of fiery infernos rage across the amazon rainforest tropical vegetation trees and the fauna they house are being razed since august 15 more than 9500 new forest fires have started across brazil primarily in the amazon basin (noaa)'the sky randomly turned dark'as the world's largest rainforest the amazon plays a crucial role in keeping our planet's carbon-dioxide levels in check farmers and loggers also purposefully set fire to the rainforest to clear swaths of the amazon for industrial or agricultural use the amazon shrunk by 519 square miles (1345 square kilometers)\""
      ]
     },
     "execution_count": 95,
     "metadata": {},
     "output_type": "execute_result"
    }
   ],
   "source": [
    "#punctuation signs\n",
    "df.loc[1]['Content_Parsed_3']"
   ]
  },
  {
   "cell_type": "code",
   "execution_count": 96,
   "id": "7a6ff80a",
   "metadata": {},
   "outputs": [
    {
     "data": {
      "text/plain": [
       "\"as thousands of fiery infernos rage across the amazon rainforest tropical vegetation trees and the fauna they house are being razed since august 15 more than 9500 new forest fires have started across brazil primarily in the amazon basin (noaa)'the sky randomly turned dark'as the world largest rainforest the amazon plays a crucial role in keeping our planet carbon-dioxide levels in check farmers and loggers also purposefully set fire to the rainforest to clear swaths of the amazon for industrial or agricultural use the amazon shrunk by 519 square miles (1345 square kilometers)\""
      ]
     },
     "execution_count": 96,
     "metadata": {},
     "output_type": "execute_result"
    }
   ],
   "source": [
    "# 's removal o/p\n",
    "df.loc[1]['Content_Parsed_4']"
   ]
  },
  {
   "cell_type": "code",
   "execution_count": 97,
   "id": "2b4355d9",
   "metadata": {},
   "outputs": [
    {
     "data": {
      "text/plain": [
       "\"as thousands of fiery infernos rage across the amazon rainforest tropical vegetation tree and the fauna they house be be raze since august 15 more than 9500 new forest fire have start across brazil primarily in the amazon basin (noaa)'the sky randomly turn dark'as the world largest rainforest the amazon play a crucial role in keep our planet carbon-dioxide level in check farmers and loggers also purposefully set fire to the rainforest to clear swaths of the amazon for industrial or agricultural use the amazon shrink by 519 square miles (1345 square kilometers)\""
      ]
     },
     "execution_count": 97,
     "metadata": {},
     "output_type": "execute_result"
    }
   ],
   "source": [
    "#stemming and lemmatization o/p\n",
    "df.loc[1]['Content_Parsed_5']"
   ]
  },
  {
   "cell_type": "code",
   "execution_count": 98,
   "id": "24f9886b",
   "metadata": {},
   "outputs": [
    {
     "data": {
      "text/plain": [
       "\" thousands  fiery infernos rage across  amazon rainforest tropical vegetation tree   fauna  house   raze since august 15   9500 new forest fire  start across brazil primarily   amazon basin (noaa)' sky randomly turn dark'  world largest rainforest  amazon play  crucial role  keep  planet carbon-dioxide level  check farmers  loggers also purposefully set fire   rainforest  clear swaths   amazon  industrial  agricultural use  amazon shrink  519 square miles (1345 square kilometers)\""
      ]
     },
     "execution_count": 98,
     "metadata": {},
     "output_type": "execute_result"
    }
   ],
   "source": [
    "#stop words\n",
    "df.loc[1]['Content_Parsed_6']"
   ]
  },
  {
   "cell_type": "code",
   "execution_count": 99,
   "id": "cbb1c341",
   "metadata": {},
   "outputs": [
    {
     "data": {
      "text/html": [
       "<div>\n",
       "<style scoped>\n",
       "    .dataframe tbody tr th:only-of-type {\n",
       "        vertical-align: middle;\n",
       "    }\n",
       "\n",
       "    .dataframe tbody tr th {\n",
       "        vertical-align: top;\n",
       "    }\n",
       "\n",
       "    .dataframe thead th {\n",
       "        text-align: right;\n",
       "    }\n",
       "</style>\n",
       "<table border=\"1\" class=\"dataframe\">\n",
       "  <thead>\n",
       "    <tr style=\"text-align: right;\">\n",
       "      <th></th>\n",
       "      <th>Unnamed: 0</th>\n",
       "      <th>File_Name</th>\n",
       "      <th>Content</th>\n",
       "      <th>Category</th>\n",
       "      <th>Complete_Filename</th>\n",
       "      <th>id</th>\n",
       "      <th>News_length</th>\n",
       "      <th>Content_Parsed_1</th>\n",
       "      <th>Content_Parsed_2</th>\n",
       "      <th>Content_Parsed_3</th>\n",
       "      <th>Content_Parsed_4</th>\n",
       "      <th>Content_Parsed_5</th>\n",
       "      <th>Content_Parsed_6</th>\n",
       "    </tr>\n",
       "  </thead>\n",
       "  <tbody>\n",
       "    <tr>\n",
       "      <th>0</th>\n",
       "      <td>0</td>\n",
       "      <td>WASHINGTON, DC - NOVEMBER 24: U.S. first lady ...</td>\n",
       "      <td>Brazil contains about 60% of the Amazon rainfo...</td>\n",
       "      <td>Amazon</td>\n",
       "      <td>NaN</td>\n",
       "      <td>1</td>\n",
       "      <td>606</td>\n",
       "      <td>Brazil contains about 60% of the Amazon rainfo...</td>\n",
       "      <td>brazil contains about 60% of the amazon rainfo...</td>\n",
       "      <td>brazil contains about 60% of the amazon rainfo...</td>\n",
       "      <td>brazil contains about 60% of the amazon rainfo...</td>\n",
       "      <td>brazil contain about 60% of the amazon rainfor...</td>\n",
       "      <td>brazil contain  60%   amazon rainforest whose ...</td>\n",
       "    </tr>\n",
       "  </tbody>\n",
       "</table>\n",
       "</div>"
      ],
      "text/plain": [
       "   Unnamed: 0                                          File_Name  \\\n",
       "0           0  WASHINGTON, DC - NOVEMBER 24: U.S. first lady ...   \n",
       "\n",
       "                                             Content Category  \\\n",
       "0  Brazil contains about 60% of the Amazon rainfo...   Amazon   \n",
       "\n",
       "  Complete_Filename  id  News_length  \\\n",
       "0               NaN   1          606   \n",
       "\n",
       "                                    Content_Parsed_1  \\\n",
       "0  Brazil contains about 60% of the Amazon rainfo...   \n",
       "\n",
       "                                    Content_Parsed_2  \\\n",
       "0  brazil contains about 60% of the amazon rainfo...   \n",
       "\n",
       "                                    Content_Parsed_3  \\\n",
       "0  brazil contains about 60% of the amazon rainfo...   \n",
       "\n",
       "                                    Content_Parsed_4  \\\n",
       "0  brazil contains about 60% of the amazon rainfo...   \n",
       "\n",
       "                                    Content_Parsed_5  \\\n",
       "0  brazil contain about 60% of the amazon rainfor...   \n",
       "\n",
       "                                    Content_Parsed_6  \n",
       "0  brazil contain  60%   amazon rainforest whose ...  "
      ]
     },
     "execution_count": 99,
     "metadata": {},
     "output_type": "execute_result"
    }
   ],
   "source": [
    "#final o/p\n",
    "df.head(1)"
   ]
  },
  {
   "cell_type": "code",
   "execution_count": 100,
   "id": "a28d853b",
   "metadata": {},
   "outputs": [],
   "source": [
    "#removing the unnecesssary columns\n",
    "df['Complete_Filename'] = df['File_Name'] + '-' + df['Category']"
   ]
  },
  {
   "cell_type": "code",
   "execution_count": 101,
   "id": "ebdd8468",
   "metadata": {},
   "outputs": [],
   "source": [
    "list_columns = [\"File_Name\", \"Category\", \"Complete_Filename\", \"Content\", \"Content_Parsed_6\"]\n",
    "df = df[list_columns]\n",
    "\n",
    "df = df.rename(columns={'Content_Parsed_6': 'Content_Parsed'})"
   ]
  },
  {
   "cell_type": "code",
   "execution_count": 102,
   "id": "1964d14d",
   "metadata": {},
   "outputs": [
    {
     "data": {
      "text/html": [
       "<div>\n",
       "<style scoped>\n",
       "    .dataframe tbody tr th:only-of-type {\n",
       "        vertical-align: middle;\n",
       "    }\n",
       "\n",
       "    .dataframe tbody tr th {\n",
       "        vertical-align: top;\n",
       "    }\n",
       "\n",
       "    .dataframe thead th {\n",
       "        text-align: right;\n",
       "    }\n",
       "</style>\n",
       "<table border=\"1\" class=\"dataframe\">\n",
       "  <thead>\n",
       "    <tr style=\"text-align: right;\">\n",
       "      <th></th>\n",
       "      <th>File_Name</th>\n",
       "      <th>Category</th>\n",
       "      <th>Complete_Filename</th>\n",
       "      <th>Content</th>\n",
       "      <th>Content_Parsed</th>\n",
       "    </tr>\n",
       "  </thead>\n",
       "  <tbody>\n",
       "    <tr>\n",
       "      <th>0</th>\n",
       "      <td>WASHINGTON, DC - NOVEMBER 24: U.S. first lady ...</td>\n",
       "      <td>Amazon</td>\n",
       "      <td>WASHINGTON, DC - NOVEMBER 24: U.S. first lady ...</td>\n",
       "      <td>Brazil contains about 60% of the Amazon rainfo...</td>\n",
       "      <td>brazil contain  60%   amazon rainforest whose ...</td>\n",
       "    </tr>\n",
       "    <tr>\n",
       "      <th>1</th>\n",
       "      <td>The \"lungs of the planet\" are burning.\\n\\nAs t...</td>\n",
       "      <td>Amazon</td>\n",
       "      <td>The \"lungs of the planet\" are burning.\\n\\nAs t...</td>\n",
       "      <td>As thousands of fiery infernos rage across the...</td>\n",
       "      <td>thousands  fiery infernos rage across  amazon...</td>\n",
       "    </tr>\n",
       "    <tr>\n",
       "      <th>2</th>\n",
       "      <td>michael barbaro\\n\\nFrom The New York Times, I’...</td>\n",
       "      <td>Amazon</td>\n",
       "      <td>michael barbaro\\n\\nFrom The New York Times, I’...</td>\n",
       "      <td>This is “The Daily.” Today: More than 26,000 f...</td>\n",
       "      <td>“ daily” today   26000 fire   record inside ...</td>\n",
       "    </tr>\n",
       "    <tr>\n",
       "      <th>3</th>\n",
       "      <td>In honor of Amazon Prime Day, let’s take a loo...</td>\n",
       "      <td>Amazon</td>\n",
       "      <td>In honor of Amazon Prime Day, let’s take a loo...</td>\n",
       "      <td>Amazon’s flywheel approach means that innovati...</td>\n",
       "      <td>amazon’ flywheel approach mean  innovation aro...</td>\n",
       "    </tr>\n",
       "    <tr>\n",
       "      <th>4</th>\n",
       "      <td>Amazon announced in its earnings report for th...</td>\n",
       "      <td>Amazon</td>\n",
       "      <td>Amazon announced in its earnings report for th...</td>\n",
       "      <td>Amazon announced in its earnings report for th...</td>\n",
       "      <td>amazon announce   earn report   fourth quarter...</td>\n",
       "    </tr>\n",
       "  </tbody>\n",
       "</table>\n",
       "</div>"
      ],
      "text/plain": [
       "                                           File_Name Category  \\\n",
       "0  WASHINGTON, DC - NOVEMBER 24: U.S. first lady ...   Amazon   \n",
       "1  The \"lungs of the planet\" are burning.\\n\\nAs t...   Amazon   \n",
       "2  michael barbaro\\n\\nFrom The New York Times, I’...   Amazon   \n",
       "3  In honor of Amazon Prime Day, let’s take a loo...   Amazon   \n",
       "4  Amazon announced in its earnings report for th...   Amazon   \n",
       "\n",
       "                                   Complete_Filename  \\\n",
       "0  WASHINGTON, DC - NOVEMBER 24: U.S. first lady ...   \n",
       "1  The \"lungs of the planet\" are burning.\\n\\nAs t...   \n",
       "2  michael barbaro\\n\\nFrom The New York Times, I’...   \n",
       "3  In honor of Amazon Prime Day, let’s take a loo...   \n",
       "4  Amazon announced in its earnings report for th...   \n",
       "\n",
       "                                             Content  \\\n",
       "0  Brazil contains about 60% of the Amazon rainfo...   \n",
       "1  As thousands of fiery infernos rage across the...   \n",
       "2  This is “The Daily.” Today: More than 26,000 f...   \n",
       "3  Amazon’s flywheel approach means that innovati...   \n",
       "4  Amazon announced in its earnings report for th...   \n",
       "\n",
       "                                      Content_Parsed  \n",
       "0  brazil contain  60%   amazon rainforest whose ...  \n",
       "1   thousands  fiery infernos rage across  amazon...  \n",
       "2    “ daily” today   26000 fire   record inside ...  \n",
       "3  amazon’ flywheel approach mean  innovation aro...  \n",
       "4  amazon announce   earn report   fourth quarter...  "
      ]
     },
     "execution_count": 102,
     "metadata": {},
     "output_type": "execute_result"
    }
   ],
   "source": [
    "df.head()"
   ]
  },
  {
   "cell_type": "markdown",
   "id": "3f5cd0b3",
   "metadata": {},
   "source": [
    "## Coding the labels"
   ]
  },
  {
   "cell_type": "code",
   "execution_count": 103,
   "id": "511b1263",
   "metadata": {},
   "outputs": [],
   "source": [
    "category_codes = {\n",
    "    'business': 0,\n",
    "    'entertainment': 1,\n",
    "    'politics': 2,\n",
    "    'sport': 3,\n",
    "    'Amazon forest': 4\n",
    "}"
   ]
  },
  {
   "cell_type": "code",
   "execution_count": 104,
   "id": "69a3fcb4",
   "metadata": {},
   "outputs": [],
   "source": [
    "# Category mapping\n",
    "df['Category_Code'] = df['Category']\n",
    "df = df.replace({'Category_Code':category_codes})"
   ]
  },
  {
   "cell_type": "markdown",
   "id": "5669f6fa",
   "metadata": {},
   "source": [
    "### Train - test split"
   ]
  },
  {
   "cell_type": "code",
   "execution_count": 105,
   "id": "ca14419e",
   "metadata": {},
   "outputs": [],
   "source": [
    "X_train, X_test, y_train, y_test = train_test_split(df['Content_Parsed'], \n",
    "                                                    df['Category_Code'], \n",
    "                                                    test_size=0.15, \n",
    "                                                    random_state=8)"
   ]
  },
  {
   "cell_type": "markdown",
   "id": "7dc635ca",
   "metadata": {},
   "source": [
    "### Text representation"
   ]
  },
  {
   "cell_type": "code",
   "execution_count": 106,
   "id": "cc08c4ff",
   "metadata": {},
   "outputs": [],
   "source": [
    "# Parameter election\n",
    "ngram_range = (1,2)\n",
    "min_df = 10\n",
    "max_df = 1.\n",
    "max_features = 300"
   ]
  },
  {
   "cell_type": "code",
   "execution_count": 107,
   "id": "399095b5",
   "metadata": {},
   "outputs": [
    {
     "name": "stdout",
     "output_type": "stream",
     "text": [
      "(1584, 300)\n",
      "(280, 300)\n"
     ]
    }
   ],
   "source": [
    "tfidf = TfidfVectorizer(encoding='utf-8',\n",
    "                        ngram_range=ngram_range,\n",
    "                        stop_words=None,\n",
    "                        lowercase=False,\n",
    "                        max_df=max_df,\n",
    "                        min_df=min_df,\n",
    "                        max_features=max_features,\n",
    "                        norm='l2',\n",
    "                        sublinear_tf=True)\n",
    "                        \n",
    "features_train = tfidf.fit_transform(X_train).toarray()\n",
    "labels_train = y_train\n",
    "print(features_train.shape)\n",
    "\n",
    "features_test = tfidf.transform(X_test).toarray()\n",
    "labels_test = y_test\n",
    "print(features_test.shape)"
   ]
  },
  {
   "cell_type": "markdown",
   "id": "7149da73",
   "metadata": {},
   "source": [
    "### Using the chi square to view the unigrams and bigrams"
   ]
  },
  {
   "cell_type": "code",
   "execution_count": 108,
   "id": "8bde3171",
   "metadata": {},
   "outputs": [
    {
     "name": "stdout",
     "output_type": "stream",
     "text": [
      "# 'Amazon forest' category:\n",
      "  . Most correlated unigrams:\n",
      ". first\n",
      ". firm\n",
      ". find\n",
      ". film\n",
      ". years\n",
      "  . Most correlated bigrams:\n",
      ". last year\n",
      ". year old\n",
      "\n",
      "# 'business' category:\n",
      "  . Most correlated unigrams:\n",
      ". bank\n",
      ". company\n",
      ". growth\n",
      ". market\n",
      ". firm\n",
      "  . Most correlated bigrams:\n",
      ". mr blair\n",
      ". year old\n",
      "\n",
      "# 'entertainment' category:\n",
      "  . Most correlated unigrams:\n",
      ". tv\n",
      ". music\n",
      ". award\n",
      ". star\n",
      ". film\n",
      "  . Most correlated bigrams:\n",
      ". mr blair\n",
      ". prime minister\n",
      "\n",
      "# 'politics' category:\n",
      "  . Most correlated unigrams:\n",
      ". tory\n",
      ". blair\n",
      ". party\n",
      ". election\n",
      ". labour\n",
      "  . Most correlated bigrams:\n",
      ". prime minister\n",
      ". mr blair\n",
      "\n",
      "# 'sport' category:\n",
      "  . Most correlated unigrams:\n",
      ". players\n",
      ". cup\n",
      ". champion\n",
      ". match\n",
      ". game\n",
      "  . Most correlated bigrams:\n",
      ". prime minister\n",
      ". year old\n",
      "\n"
     ]
    }
   ],
   "source": [
    "from sklearn.feature_selection import chi2\n",
    "import numpy as np\n",
    "\n",
    "for Product, category_id in sorted(category_codes.items()):\n",
    "    features_chi2 = chi2(features_train, labels_train == category_id)\n",
    "    indices = np.argsort(features_chi2[0])\n",
    "    feature_names = np.array(tfidf.get_feature_names())[indices]\n",
    "    unigrams = [v for v in feature_names if len(v.split(' ')) == 1]\n",
    "    bigrams = [v for v in feature_names if len(v.split(' ')) == 2]\n",
    "    print(\"# '{}' category:\".format(Product))\n",
    "    print(\"  . Most correlated unigrams:\\n. {}\".format('\\n. '.join(unigrams[-5:])))\n",
    "    print(\"  . Most correlated bigrams:\\n. {}\".format('\\n. '.join(bigrams[-2:])))\n",
    "    print(\"\")"
   ]
  },
  {
   "cell_type": "code",
   "execution_count": 109,
   "id": "20c5fcec",
   "metadata": {},
   "outputs": [
    {
     "data": {
      "text/plain": [
       "['tell bbc', 'last year', 'mr brown', 'mr blair', 'prime minister', 'year old']"
      ]
     },
     "execution_count": 109,
     "metadata": {},
     "output_type": "execute_result"
    }
   ],
   "source": [
    "bigrams"
   ]
  },
  {
   "cell_type": "code",
   "execution_count": 110,
   "id": "4b542dfb",
   "metadata": {},
   "outputs": [],
   "source": [
    "#Saving the files to pickles"
   ]
  },
  {
   "cell_type": "code",
   "execution_count": 111,
   "id": "7bdb2636",
   "metadata": {},
   "outputs": [],
   "source": [
    "df_path_pickle = 'Latest-News-Classifier-master/0. Latest News Classifier/03. Feature Engineering/'\n",
    "\n",
    "\n",
    "# X_train\n",
    "with open(df_path_pickle + 'Pickles/X_train.pickle', 'wb') as output:\n",
    "    pickle.dump(X_train, output)\n",
    "    \n",
    "# X_test    \n",
    "with open(df_path_pickle + 'Pickles/X_test.pickle', 'wb') as output:\n",
    "    pickle.dump(X_test, output)\n",
    "    \n",
    "# y_train\n",
    "with open(df_path_pickle + 'Pickles/y_train.pickle', 'wb') as output:\n",
    "    pickle.dump(y_train, output)\n",
    "    \n",
    "# y_test\n",
    "with open(df_path_pickle + 'Pickles/y_test.pickle', 'wb') as output:\n",
    "    pickle.dump(y_test, output)\n",
    "    \n",
    "# df\n",
    "with open(df_path_pickle + 'Pickles/df.pickle', 'wb') as output:\n",
    "    pickle.dump(df, output)\n",
    "    \n",
    "# features_train\n",
    "with open(df_path_pickle + 'Pickles/features_train.pickle', 'wb') as output:\n",
    "    pickle.dump(features_train, output)\n",
    "\n",
    "# labels_train\n",
    "with open(df_path_pickle + 'Pickles/labels_train.pickle', 'wb') as output:\n",
    "    pickle.dump(labels_train, output)\n",
    "\n",
    "# features_test\n",
    "with open(df_path_pickle + 'Pickles/features_test.pickle', 'wb') as output:\n",
    "    pickle.dump(features_test, output)\n",
    "\n",
    "# labels_test\n",
    "with open(df_path_pickle + 'Pickles/labels_test.pickle', 'wb') as output:\n",
    "    pickle.dump(labels_test, output)\n",
    "    \n",
    "# TF-IDF object\n",
    "with open(df_path_pickle + 'Pickles/tfidf.pickle', 'wb') as output:\n",
    "    pickle.dump(tfidf, output)"
   ]
  }
 ],
 "metadata": {
  "kernelspec": {
   "display_name": "Python 3",
   "language": "python",
   "name": "python3"
  },
  "language_info": {
   "codemirror_mode": {
    "name": "ipython",
    "version": 3
   },
   "file_extension": ".py",
   "mimetype": "text/x-python",
   "name": "python",
   "nbconvert_exporter": "python",
   "pygments_lexer": "ipython3",
   "version": "3.8.8"
  }
 },
 "nbformat": 4,
 "nbformat_minor": 5
}
