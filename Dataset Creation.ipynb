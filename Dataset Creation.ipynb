{
 "cells": [
  {
   "cell_type": "code",
   "execution_count": 13,
   "id": "9ed34820",
   "metadata": {
    "scrolled": true
   },
   "outputs": [],
   "source": [
    "from GoogleNews import GoogleNews\n",
    "from newspaper import Article\n",
    "from newspaper import Config\n",
    "import pandas as pd\n",
    "import nltk"
   ]
  },
  {
   "cell_type": "code",
   "execution_count": 14,
   "id": "87766ada",
   "metadata": {},
   "outputs": [],
   "source": [
    "user_agent = 'Mozilla/5.0 (Macintosh; Intel Mac OS X 10_11_5) AppleWebKit/537.36 (KHTML, like Gecko) Chrome/50.0.2661.102 Safari/537.36'\n",
    "config = Config()\n",
    "config.browser_user_agent = user_agent"
   ]
  },
  {
   "cell_type": "code",
   "execution_count": 15,
   "id": "a793dcc4",
   "metadata": {},
   "outputs": [],
   "source": [
    "#search for articles on Amazon\n",
    "\n",
    "googlenews=GoogleNews(start='01/01/2015',end='08/09/2021')\n",
    "googlenews.search('Amazon Forest')\n",
    "result=googlenews.result()\n",
    "df=pd.DataFrame(result)"
   ]
  },
  {
   "cell_type": "code",
   "execution_count": 16,
   "id": "9a83c4a4",
   "metadata": {},
   "outputs": [],
   "source": [
    "# fetch the articles\n",
    "\n",
    "for i in range(2,5):\n",
    "    googlenews.getpage(i)\n",
    "    result=googlenews.result()\n",
    "    df=pd.DataFrame(result)"
   ]
  },
  {
   "cell_type": "code",
   "execution_count": 17,
   "id": "e5cb3f1b",
   "metadata": {},
   "outputs": [],
   "source": [
    "# removing unavaialble articles\n",
    "#update_df = df.drop([42,112,187,200,228])"
   ]
  },
  {
   "cell_type": "code",
   "execution_count": 18,
   "id": "8ef05f6b",
   "metadata": {},
   "outputs": [
    {
     "ename": "ArticleException",
     "evalue": "Article `download()` failed with HTTPSConnectionPool(host='www.washingtonpost.com', port=443): Read timed out. (read timeout=7) on URL https://www.washingtonpost.com/climate-environment/what-you-need-to-know-about-the-amazon-rainforest-fires/2019/08/27/ac82b21e-c815-11e9-a4f3-c081a126de70_story.html",
     "output_type": "error",
     "traceback": [
      "\u001b[1;31m---------------------------------------------------------------------------\u001b[0m",
      "\u001b[1;31mArticleException\u001b[0m                          Traceback (most recent call last)",
      "\u001b[1;32m<ipython-input-18-bbfae15be2fc>\u001b[0m in \u001b[0;36m<module>\u001b[1;34m\u001b[0m\n\u001b[0;32m      5\u001b[0m     \u001b[0marticle\u001b[0m \u001b[1;33m=\u001b[0m \u001b[0mArticle\u001b[0m\u001b[1;33m(\u001b[0m\u001b[0mdf\u001b[0m\u001b[1;33m[\u001b[0m\u001b[1;34m'link'\u001b[0m\u001b[1;33m]\u001b[0m\u001b[1;33m[\u001b[0m\u001b[0mind\u001b[0m\u001b[1;33m]\u001b[0m\u001b[1;33m,\u001b[0m\u001b[0mconfig\u001b[0m\u001b[1;33m=\u001b[0m\u001b[0mconfig\u001b[0m\u001b[1;33m)\u001b[0m\u001b[1;33m\u001b[0m\u001b[1;33m\u001b[0m\u001b[0m\n\u001b[0;32m      6\u001b[0m     \u001b[0marticle\u001b[0m\u001b[1;33m.\u001b[0m\u001b[0mdownload\u001b[0m\u001b[1;33m(\u001b[0m\u001b[1;33m)\u001b[0m\u001b[1;33m\u001b[0m\u001b[1;33m\u001b[0m\u001b[0m\n\u001b[1;32m----> 7\u001b[1;33m     \u001b[0marticle\u001b[0m\u001b[1;33m.\u001b[0m\u001b[0mparse\u001b[0m\u001b[1;33m(\u001b[0m\u001b[1;33m)\u001b[0m\u001b[1;33m\u001b[0m\u001b[1;33m\u001b[0m\u001b[0m\n\u001b[0m\u001b[0;32m      8\u001b[0m     \u001b[0marticle\u001b[0m\u001b[1;33m.\u001b[0m\u001b[0mnlp\u001b[0m\u001b[1;33m(\u001b[0m\u001b[1;33m)\u001b[0m\u001b[1;33m\u001b[0m\u001b[1;33m\u001b[0m\u001b[0m\n\u001b[0;32m      9\u001b[0m     \u001b[0md\u001b[0m\u001b[1;33m[\u001b[0m\u001b[1;34m'Date'\u001b[0m\u001b[1;33m]\u001b[0m\u001b[1;33m=\u001b[0m\u001b[0mdf\u001b[0m\u001b[1;33m[\u001b[0m\u001b[1;34m'date'\u001b[0m\u001b[1;33m]\u001b[0m\u001b[1;33m[\u001b[0m\u001b[0mind\u001b[0m\u001b[1;33m]\u001b[0m\u001b[1;33m\u001b[0m\u001b[1;33m\u001b[0m\u001b[0m\n",
      "\u001b[1;32m~\\AppData\\Roaming\\Python\\Python38\\site-packages\\newspaper\\article.py\u001b[0m in \u001b[0;36mparse\u001b[1;34m(self)\u001b[0m\n\u001b[0;32m    189\u001b[0m \u001b[1;33m\u001b[0m\u001b[0m\n\u001b[0;32m    190\u001b[0m     \u001b[1;32mdef\u001b[0m \u001b[0mparse\u001b[0m\u001b[1;33m(\u001b[0m\u001b[0mself\u001b[0m\u001b[1;33m)\u001b[0m\u001b[1;33m:\u001b[0m\u001b[1;33m\u001b[0m\u001b[1;33m\u001b[0m\u001b[0m\n\u001b[1;32m--> 191\u001b[1;33m         \u001b[0mself\u001b[0m\u001b[1;33m.\u001b[0m\u001b[0mthrow_if_not_downloaded_verbose\u001b[0m\u001b[1;33m(\u001b[0m\u001b[1;33m)\u001b[0m\u001b[1;33m\u001b[0m\u001b[1;33m\u001b[0m\u001b[0m\n\u001b[0m\u001b[0;32m    192\u001b[0m \u001b[1;33m\u001b[0m\u001b[0m\n\u001b[0;32m    193\u001b[0m         \u001b[0mself\u001b[0m\u001b[1;33m.\u001b[0m\u001b[0mdoc\u001b[0m \u001b[1;33m=\u001b[0m \u001b[0mself\u001b[0m\u001b[1;33m.\u001b[0m\u001b[0mconfig\u001b[0m\u001b[1;33m.\u001b[0m\u001b[0mget_parser\u001b[0m\u001b[1;33m(\u001b[0m\u001b[1;33m)\u001b[0m\u001b[1;33m.\u001b[0m\u001b[0mfromstring\u001b[0m\u001b[1;33m(\u001b[0m\u001b[0mself\u001b[0m\u001b[1;33m.\u001b[0m\u001b[0mhtml\u001b[0m\u001b[1;33m)\u001b[0m\u001b[1;33m\u001b[0m\u001b[1;33m\u001b[0m\u001b[0m\n",
      "\u001b[1;32m~\\AppData\\Roaming\\Python\\Python38\\site-packages\\newspaper\\article.py\u001b[0m in \u001b[0;36mthrow_if_not_downloaded_verbose\u001b[1;34m(self)\u001b[0m\n\u001b[0;32m    529\u001b[0m             \u001b[1;32mraise\u001b[0m \u001b[0mArticleException\u001b[0m\u001b[1;33m(\u001b[0m\u001b[1;34m'You must `download()` an article first!'\u001b[0m\u001b[1;33m)\u001b[0m\u001b[1;33m\u001b[0m\u001b[1;33m\u001b[0m\u001b[0m\n\u001b[0;32m    530\u001b[0m         \u001b[1;32melif\u001b[0m \u001b[0mself\u001b[0m\u001b[1;33m.\u001b[0m\u001b[0mdownload_state\u001b[0m \u001b[1;33m==\u001b[0m \u001b[0mArticleDownloadState\u001b[0m\u001b[1;33m.\u001b[0m\u001b[0mFAILED_RESPONSE\u001b[0m\u001b[1;33m:\u001b[0m\u001b[1;33m\u001b[0m\u001b[1;33m\u001b[0m\u001b[0m\n\u001b[1;32m--> 531\u001b[1;33m             raise ArticleException('Article `download()` failed with %s on URL %s' %\n\u001b[0m\u001b[0;32m    532\u001b[0m                   (self.download_exception_msg, self.url))\n\u001b[0;32m    533\u001b[0m \u001b[1;33m\u001b[0m\u001b[0m\n",
      "\u001b[1;31mArticleException\u001b[0m: Article `download()` failed with HTTPSConnectionPool(host='www.washingtonpost.com', port=443): Read timed out. (read timeout=7) on URL https://www.washingtonpost.com/climate-environment/what-you-need-to-know-about-the-amazon-rainforest-fires/2019/08/27/ac82b21e-c815-11e9-a4f3-c081a126de70_story.html"
     ]
    }
   ],
   "source": [
    "# getting the full article and storing in excel\n",
    "lst = []\n",
    "for ind in df.index:\n",
    "    d={}\n",
    "    article = Article(df['link'][ind],config=config)\n",
    "    article.download()\n",
    "    article.parse()\n",
    "    article.nlp()\n",
    "    d['Date']=df['date'][ind]\n",
    "    d['Media']=df['media'][ind]\n",
    "    d['Title']=article.title\n",
    "    d['Article']=article.text\n",
    "    d['Summary']=article.summary\n",
    "    lst.append(d)\n",
    "news_df=pd.DataFrame(lst)\n",
    "news_df.to_excel(\"Articles on Amazon.xlsx\")"
   ]
  },
  {
   "cell_type": "code",
   "execution_count": null,
   "id": "8f550aa1",
   "metadata": {},
   "outputs": [],
   "source": [
    "# reading bbc dataset\n",
    "\n",
    "#df_bbc = pd.read_csv('Y:\\\\Masters_Content\\\\Feature_Engineering\\\\Lab1\\\\Data\\\\News_dataset.csv', sep=';')\n",
    "df_bbc = pd.read_csv('Latest-News-Classifier-master/0. Latest News Classifier/01. Dataset Creation/News_dataset.csv', sep=';')"
   ]
  },
  {
   "cell_type": "code",
   "execution_count": null,
   "id": "303ff330",
   "metadata": {},
   "outputs": [],
   "source": [
    "# creating Amazon category\n",
    "news_df['Category'] = 'Amazon'"
   ]
  },
  {
   "cell_type": "code",
   "execution_count": null,
   "id": "b1a5b3b8",
   "metadata": {},
   "outputs": [],
   "source": [
    "# extracting the required columns and creating a new dataframe\n",
    "df_auto = news_df[['Article','Summary','Category']]\n",
    "df_auto.rename(columns = {'Article':'File_Name','Summary':'Content'},inplace = True)"
   ]
  },
  {
   "cell_type": "code",
   "execution_count": null,
   "id": "a878d1dc",
   "metadata": {},
   "outputs": [],
   "source": [
    "# removing tech articles\n",
    "df_bbc = df_bbc[df_bbc['Category'] != 'tech'].reset_index(drop = True)"
   ]
  },
  {
   "cell_type": "code",
   "execution_count": null,
   "id": "18d6f606",
   "metadata": {},
   "outputs": [],
   "source": [
    "# concatenating bbc with autonomous articles\n",
    "frames = [df_auto,df_bbc]\n",
    "df_final_news = pd.DataFrame(pd.concat(frames,ignore_index = True))"
   ]
  },
  {
   "cell_type": "code",
   "execution_count": null,
   "id": "7149d150",
   "metadata": {},
   "outputs": [],
   "source": [
    "# saving the dataframe to csv\n",
    "df_final_news = df_final_news.to_csv('Latest-News-Classifier-master/0. Latest News Classifier/01. Dataset Creation/Amazon_News_dataset.csv')"
   ]
  }
 ],
 "metadata": {
  "kernelspec": {
   "display_name": "Python 3",
   "language": "python",
   "name": "python3"
  },
  "language_info": {
   "codemirror_mode": {
    "name": "ipython",
    "version": 3
   },
   "file_extension": ".py",
   "mimetype": "text/x-python",
   "name": "python",
   "nbconvert_exporter": "python",
   "pygments_lexer": "ipython3",
   "version": "3.8.8"
  }
 },
 "nbformat": 4,
 "nbformat_minor": 5
}
